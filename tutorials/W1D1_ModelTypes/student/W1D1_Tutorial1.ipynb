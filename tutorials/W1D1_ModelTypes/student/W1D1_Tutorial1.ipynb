{
  "cells": [
    {
      "cell_type": "markdown",
      "metadata": {
        "id": "view-in-github",
        "colab_type": "text"
      },
      "source": [
        "<a href=\"https://colab.research.google.com/github/visnyue/coding-practice-in-colab/blob/main/tutorials/W1D1_ModelTypes/student/W1D1_Tutorial1.ipynb\" target=\"_parent\"><img src=\"https://colab.research.google.com/assets/colab-badge.svg\" alt=\"Open In Colab\"/></a>"
      ]
    },
    {
      "cell_type": "markdown",
      "metadata": {
        "execution": {},
        "id": "KgPxWEafqfnu"
      },
      "source": [
        "# Tutorial 1: \"What\" models\n",
        "**Week 1, Day 1: Model Types**\n",
        "\n",
        "**By Neuromatch Academy**\n",
        "\n",
        "__Content creators:__ Matt Laporte, Byron Galbraith, Konrad Kording\n",
        "\n",
        "__Content reviewers:__ Dalin Guo, Aishwarya Balwani, Madineh Sarvestani, Maryam Vaziri-Pashkam, Michael Waskom, Ella Batty\n",
        "\n",
        "__Post-production team:__ Gagana B, Spiros Chavlis\n",
        "\n",
        "We would like to acknowledge [Steinmetz _et al._ (2019)](https://www.nature.com/articles/s41586-019-1787-x) for sharing their data, a subset of which is used here.\n"
      ]
    },
    {
      "cell_type": "markdown",
      "metadata": {
        "execution": {},
        "id": "xXGs06Ocqfny"
      },
      "source": [
        "<p align='center'><img src='https://github.com/NeuromatchAcademy/widgets/blob/master/sponsors.png?raw=True'/></p>"
      ]
    },
    {
      "cell_type": "markdown",
      "metadata": {
        "execution": {},
        "id": "x00MIs-Sqfnz"
      },
      "source": [
        "___\n",
        "# Tutorial Objectives\n",
        "\n",
        "*Estimated timing of tutorial: 50 minutes*\n",
        "\n",
        "This is tutorial 1 of a 3-part series on different flavors of models used to understand neural data. In this tutorial we will explore 'What' models, used to describe the data. To understand what our data looks like, we will visualize it in different ways. Then we will compare it to simple mathematical models. Specifically, we will:\n",
        "\n",
        "- Load a dataset with spiking activity from hundreds of neurons and understand how it is organized\n",
        "- Make plots to visualize characteristics of the spiking activity across the population\n",
        "- Compute the distribution of \"inter-spike intervals\" (ISIs) for a single neuron\n",
        "- Consider several formal models of this distribution's shape and fit them to the data \"by hand\""
      ]
    },
    {
      "cell_type": "code",
      "execution_count": 6,
      "metadata": {
        "cellView": "form",
        "execution": {},
        "id": "b2ZuDwF6qfnz",
        "outputId": "e62684b7-2cea-47a9-9ef7-560fe5162ebc",
        "colab": {
          "base_uri": "https://localhost:8080/",
          "height": 501
        }
      },
      "outputs": [
        {
          "output_type": "execute_result",
          "data": {
            "text/plain": [
              "<IPython.lib.display.IFrame at 0x7fa195e4fc90>"
            ],
            "text/html": [
              "\n",
              "        <iframe\n",
              "            width=\"854\"\n",
              "            height=\"480\"\n",
              "            src=\"https://mfr.ca-1.osf.io/render?url=https://osf.io/6dxwe/?direct%26mode=render%26action=download%26mode=render\"\n",
              "            frameborder=\"0\"\n",
              "            allowfullscreen\n",
              "        ></iframe>\n",
              "        "
            ]
          },
          "metadata": {},
          "execution_count": 6
        }
      ],
      "source": [
        "# @title Tutorial slides\n",
        "\n",
        "# @markdown These are the slides for the videos in all tutorials today\n",
        "from IPython.display import IFrame\n",
        "IFrame(src=f\"https://mfr.ca-1.osf.io/render?url=https://osf.io/6dxwe/?direct%26mode=render%26action=download%26mode=render\", width=854, height=480)"
      ]
    },
    {
      "cell_type": "code",
      "execution_count": null,
      "metadata": {
        "cellView": "form",
        "execution": {},
        "id": "lZHl8owyqfn0"
      },
      "outputs": [],
      "source": [
        "# @title Video 1: \"What\" Models\n",
        "from ipywidgets import widgets\n",
        "\n",
        "out2 = widgets.Output()\n",
        "with out2:\n",
        "  from IPython.display import IFrame\n",
        "  class BiliVideo(IFrame):\n",
        "      def __init__(self, id, page=1, width=400, height=300, **kwargs):\n",
        "          self.id=id\n",
        "          src = 'https://player.bilibili.com/player.html?bvid={0}&page={1}'.format(id, page)\n",
        "          super(BiliVideo, self).__init__(src, width, height, **kwargs)\n",
        "\n",
        "  video = BiliVideo(id=\"BV1mz4y1X7ot\", width=854, height=480, fs=1)\n",
        "  print('Video available at https://www.bilibili.com/video/{0}'.format(video.id))\n",
        "  display(video)\n",
        "\n",
        "out1 = widgets.Output()\n",
        "with out1:\n",
        "  from IPython.display import YouTubeVideo\n",
        "  video = YouTubeVideo(id=\"KgqR_jbjMQg\", width=854, height=480, fs=1, rel=0)\n",
        "  print('Video available at https://youtube.com/watch?v=' + video.id)\n",
        "  display(video)\n",
        "\n",
        "out = widgets.Tab([out1, out2])\n",
        "out.set_title(0, 'Youtube')\n",
        "out.set_title(1, 'Bilibili')\n",
        "\n",
        "display(out)"
      ]
    },
    {
      "cell_type": "markdown",
      "metadata": {
        "execution": {},
        "id": "sEbUoxK8qfn1"
      },
      "source": [
        "# Setup\n",
        "\n"
      ]
    },
    {
      "cell_type": "markdown",
      "metadata": {
        "execution": {},
        "id": "qQkAHN2aqfn2"
      },
      "source": [
        "Python requires you to explicitly \"import\" libraries before their functions are available to use. We will always specify our imports at the beginning of each notebook or script."
      ]
    },
    {
      "cell_type": "code",
      "execution_count": 7,
      "metadata": {
        "execution": {},
        "pycharm": {
          "name": "#%%\n"
        },
        "id": "phrzL3keqfn2"
      },
      "outputs": [],
      "source": [
        "import numpy as np\n",
        "import matplotlib.pyplot as plt"
      ]
    },
    {
      "cell_type": "markdown",
      "metadata": {
        "execution": {},
        "id": "hK88ugLlqfn3"
      },
      "source": [
        "Tutorial notebooks typically begin with several set-up steps that are hidden from view by default.\n",
        "\n",
        "**Important:** Even though the code is hidden, you still need to run it so that the rest of the notebook can work properly. Step through each cell, either by pressing the play button in the upper-left-hand corner or with a keyboard shortcut (`Cmd-Return` on a Mac, `Ctrl-Enter` otherwise). A number will appear inside the brackets (e.g. `[3]`) to tell you that the cell was executed and what order that happened in.\n",
        "\n",
        "If you are curious to see what is going on inside each cell, you can double click to expand. Once expanded, double-click the white space to the right of the editor to collapse again."
      ]
    },
    {
      "cell_type": "code",
      "execution_count": 8,
      "metadata": {
        "cellView": "form",
        "execution": {},
        "pycharm": {
          "name": "#%%\n"
        },
        "id": "jMzoRvBKqfn3"
      },
      "outputs": [],
      "source": [
        "# @title Figure Settings\n",
        "import ipywidgets as widgets #interactive display\n",
        "\n",
        "%matplotlib inline\n",
        "%config InlineBackend.figure_format = 'retina'\n",
        "plt.style.use(\"https://raw.githubusercontent.com/NeuromatchAcademy/course-content/main/nma.mplstyle\")"
      ]
    },
    {
      "cell_type": "code",
      "execution_count": 9,
      "metadata": {
        "cellView": "form",
        "execution": {},
        "id": "jmQ1RKtRqfn4"
      },
      "outputs": [],
      "source": [
        "# @title Plotting functions\n",
        "\n",
        "def plot_isis(single_neuron_isis):\n",
        "  plt.hist(single_neuron_isis, bins=50, histtype=\"stepfilled\")\n",
        "  plt.axvline(single_neuron_isis.mean(), color=\"orange\", label=\"Mean ISI\")\n",
        "  plt.xlabel(\"ISI duration (s)\")\n",
        "  plt.ylabel(\"Number of spikes\")\n",
        "  plt.legend()"
      ]
    },
    {
      "cell_type": "code",
      "execution_count": 10,
      "metadata": {
        "cellView": "form",
        "execution": {},
        "pycharm": {
          "name": "#%%\n"
        },
        "id": "KwVW4wE3qfn4"
      },
      "outputs": [],
      "source": [
        "#@title Data retrieval\n",
        "#@markdown This cell downloads the example dataset that we will use in this tutorial.\n",
        "import io\n",
        "import requests\n",
        "r = requests.get('https://osf.io/sy5xt/download')\n",
        "if r.status_code != 200:\n",
        "  print('Failed to download data')\n",
        "else:\n",
        "  spike_times = np.load(io.BytesIO(r.content), allow_pickle=True)['spike_times']"
      ]
    },
    {
      "cell_type": "markdown",
      "metadata": {
        "execution": {},
        "id": "ncPR-9Aqqfn5"
      },
      "source": [
        "---\n",
        "\n",
        "# Section 1: Exploring the Steinmetz dataset\n",
        "\n",
        "In this tutorial we will explore the structure of a neuroscience dataset.\n",
        "\n",
        "We consider a subset of data from a study of [Steinmetz _et al._ (2019)](https://www.nature.com/articles/s41586-019-1787-x). In this study, Neuropixels probes were implanted in the brains of mice. Electrical potentials were measured by hundreds of electrodes along the length of each probe. Each electrode's measurements captured local variations in the electric field due to nearby spiking neurons. A spike sorting algorithm was used to infer spike times and cluster spikes according to common origin: a single cluster of sorted spikes is causally attributed to a single neuron.\n",
        "\n",
        "In particular, a single recording session of spike times and neuron assignments was loaded and assigned to `spike_times` in the preceding setup.\n",
        "\n",
        "Typically a dataset comes with some information about its structure. However, this information may be incomplete. You might also apply some transformations or \"pre-processing\" to create a working representation of the data of interest, which might go partly undocumented depending on the circumstances. In any case it is important to be able to use the available tools to investigate unfamiliar aspects of a data structure.\n",
        "\n",
        "Let's see what our data looks like..."
      ]
    },
    {
      "cell_type": "markdown",
      "metadata": {
        "execution": {},
        "id": "GYYQUFonqfn5"
      },
      "source": [
        "## Section 1.1: Warming up with `spike_times`"
      ]
    },
    {
      "cell_type": "markdown",
      "metadata": {
        "execution": {},
        "id": "aLyznw7Nqfn5"
      },
      "source": [
        "What is the Python type of our variable?"
      ]
    },
    {
      "cell_type": "code",
      "execution_count": 11,
      "metadata": {
        "execution": {},
        "pycharm": {
          "name": "#%%\n"
        },
        "id": "hwv_Doydqfn5",
        "outputId": "5139ca8f-40d5-401d-db32-299f6bd56c93",
        "colab": {
          "base_uri": "https://localhost:8080/"
        }
      },
      "outputs": [
        {
          "output_type": "execute_result",
          "data": {
            "text/plain": [
              "numpy.ndarray"
            ]
          },
          "metadata": {},
          "execution_count": 11
        }
      ],
      "source": [
        "type(spike_times)"
      ]
    },
    {
      "cell_type": "markdown",
      "metadata": {
        "execution": {},
        "id": "AYp-8YbUqfn6"
      },
      "source": [
        "You should see `numpy.ndarray`, which means that it's a normal NumPy array.\n",
        "\n",
        "If you see an error message, it probably means that you did not execute the set-up cells at the top of the notebook. So go ahead and make sure to do that.\n",
        "\n",
        "Once everything is running properly, we can ask the next question about the dataset: what's its shape?"
      ]
    },
    {
      "cell_type": "code",
      "execution_count": 12,
      "metadata": {
        "execution": {},
        "pycharm": {
          "name": "#%%\n"
        },
        "id": "WeToCRtCqfn6",
        "outputId": "091f3a20-ec25-4ce2-f5d8-50ad88d3dacd",
        "colab": {
          "base_uri": "https://localhost:8080/"
        }
      },
      "outputs": [
        {
          "output_type": "execute_result",
          "data": {
            "text/plain": [
              "(734,)"
            ]
          },
          "metadata": {},
          "execution_count": 12
        }
      ],
      "source": [
        "spike_times.shape"
      ]
    },
    {
      "cell_type": "markdown",
      "metadata": {
        "execution": {},
        "id": "5zAuMS0Oqfn6"
      },
      "source": [
        "There are 734 entries in one dimension, and no other dimensions. What is the Python type of the first entry, and what is *its* shape?"
      ]
    },
    {
      "cell_type": "code",
      "execution_count": 13,
      "metadata": {
        "execution": {},
        "pycharm": {
          "name": "#%%\n"
        },
        "id": "RvoX-kZYqfn6",
        "outputId": "7d0a53c2-6eb5-42fa-a7f9-0c644e167c17",
        "colab": {
          "base_uri": "https://localhost:8080/"
        }
      },
      "outputs": [
        {
          "output_type": "stream",
          "name": "stdout",
          "text": [
            "<class 'numpy.ndarray'>\n",
            "(826,)\n"
          ]
        }
      ],
      "source": [
        "idx = 0\n",
        "print(\n",
        "  type(spike_times[idx]),\n",
        "  spike_times[idx].shape,\n",
        "  sep=\"\\n\",\n",
        ")"
      ]
    },
    {
      "cell_type": "markdown",
      "metadata": {
        "execution": {},
        "id": "xh2EDOt_qfn7"
      },
      "source": [
        "It's also a NumPy array with a 1D shape! Why didn't this show up as a second dimension in the shape of `spike_times`? That is, why not `spike_times.shape == (734, 826)`?\n",
        "\n",
        "To investigate, let's check another entry."
      ]
    },
    {
      "cell_type": "code",
      "execution_count": 14,
      "metadata": {
        "execution": {},
        "pycharm": {
          "name": "#%%\n"
        },
        "id": "VC3iNlJgqfn7",
        "outputId": "b95e4819-be17-45ec-97e5-0025e62357de",
        "colab": {
          "base_uri": "https://localhost:8080/"
        }
      },
      "outputs": [
        {
          "output_type": "stream",
          "name": "stdout",
          "text": [
            "<class 'numpy.ndarray'>\n",
            "(9723,)\n"
          ]
        }
      ],
      "source": [
        "idx = 321\n",
        "print(\n",
        "  type(spike_times[idx]),\n",
        "  spike_times[idx].shape,\n",
        "  sep=\"\\n\",\n",
        ")"
      ]
    },
    {
      "cell_type": "markdown",
      "metadata": {
        "execution": {},
        "id": "gzgDpPWgqfn7"
      },
      "source": [
        "It's also a 1D NumPy array, but it has a different shape. Checking the NumPy types of the values in these arrays, and their first few elements, we see they are composed of floating point numbers (not another level of `np.ndarray`):"
      ]
    },
    {
      "cell_type": "code",
      "execution_count": 15,
      "metadata": {
        "execution": {},
        "pycharm": {
          "name": "#%%\n"
        },
        "id": "210y13Eyqfn7",
        "outputId": "ee5c9e10-f959-4da6-cf80-b2b6af580bf7",
        "colab": {
          "base_uri": "https://localhost:8080/"
        }
      },
      "outputs": [
        {
          "output_type": "stream",
          "name": "stdout",
          "text": [
            "Neuron 0:\n",
            "float32\n",
            "[ 0.8149   14.822467 24.9646   25.1436   38.8709  ]\n",
            "\n",
            "\n",
            "Neuron 321:\n",
            "float32\n",
            "[1.0698667 1.1536334 1.2403667 1.7072    1.799    ]\n",
            "\n",
            "\n"
          ]
        }
      ],
      "source": [
        "i_neurons = [0, 321]\n",
        "i_print = slice(0, 5)\n",
        "\n",
        "for i in i_neurons:\n",
        "  print(\n",
        "    \"Neuron {}:\".format(i),\n",
        "    spike_times[i].dtype,\n",
        "    spike_times[i][i_print],\n",
        "    \"\\n\",\n",
        "    sep=\"\\n\"\n",
        "  )"
      ]
    },
    {
      "cell_type": "markdown",
      "metadata": {
        "execution": {},
        "id": "y2XprW2eqfn8"
      },
      "source": [
        "Note that this time we've checked the NumPy `dtype` rather than the Python variable type. These two arrays contain floating point numbers (\"floats\") with 32 bits of precision.\n",
        "\n",
        "The basic picture is coming together:\n",
        "- `spike_times` is 1D, its entries are NumPy arrays, and its length is the number of neurons (734): by indexing it, we select a subset of neurons.\n",
        "- An array in `spike_times` is also 1D and corresponds to a single neuron; its entries are floating point numbers, and its length is the number of spikes attributed to that neuron. By indexing it, we select a subset of spike times for that neuron.\n",
        "\n",
        "Visually, you can think of the data structure as looking something like this:\n",
        "\n",
        "```\n",
        "| . . . . . |\n",
        "| . . . . . . . . |\n",
        "| . . . |\n",
        "| . . . . . . . |\n",
        "```\n",
        "\n",
        "Before moving on, we'll calculate and store the number of neurons in the dataset and the number of spikes per neuron:"
      ]
    },
    {
      "cell_type": "code",
      "execution_count": 16,
      "metadata": {
        "execution": {},
        "pycharm": {
          "name": "#%%\n"
        },
        "id": "Dkf3kWr4qfn8",
        "outputId": "730f5b3a-ad99-417e-d1f2-2fb218ca0375",
        "colab": {
          "base_uri": "https://localhost:8080/"
        }
      },
      "outputs": [
        {
          "output_type": "stream",
          "name": "stdout",
          "text": [
            "Number of neurons: 734\n",
            "Number of spikes for first five neurons: [826, 2818, 3953, 646, 1115]\n"
          ]
        }
      ],
      "source": [
        "n_neurons = len(spike_times)\n",
        "total_spikes_per_neuron = [len(spike_times_i) for spike_times_i in spike_times]\n",
        "\n",
        "print(f\"Number of neurons: {n_neurons}\")\n",
        "print(f\"Number of spikes for first five neurons: {total_spikes_per_neuron[:5]}\")"
      ]
    },
    {
      "cell_type": "code",
      "execution_count": 4,
      "metadata": {
        "cellView": "form",
        "execution": {},
        "id": "q8EPIofRqfn8",
        "outputId": "38d78891-7fe7-430f-cb68-adbc97a785c8",
        "colab": {
          "base_uri": "https://localhost:8080/",
          "height": 581,
          "referenced_widgets": [
            "54b1e650991941b8b688d328be587870",
            "30345b4e40ca4dc885b849b1e3ec6cab",
            "5c1c5aeb10bf4662bb36117ca7481196",
            "9144cc3a47ed4c8fba5d14ba91eb5866",
            "f1c948cca86a451f97983267aebeb867",
            "dea9be7920b04f3c916bfa5b10c5eb68"
          ]
        }
      },
      "outputs": [
        {
          "output_type": "display_data",
          "data": {
            "text/plain": [
              "Tab(children=(Output(), Output()), _titles={'0': 'Youtube', '1': 'Bilibili'})"
            ],
            "application/vnd.jupyter.widget-view+json": {
              "version_major": 2,
              "version_minor": 0,
              "model_id": "54b1e650991941b8b688d328be587870"
            }
          },
          "metadata": {}
        }
      ],
      "source": [
        "# @title Video 2: Exploring the dataset\n",
        "from ipywidgets import widgets\n",
        "\n",
        "out2 = widgets.Output()\n",
        "with out2:\n",
        "  from IPython.display import IFrame\n",
        "  class BiliVideo(IFrame):\n",
        "      def __init__(self, id, page=1, width=400, height=300, **kwargs):\n",
        "          self.id=id\n",
        "          src = 'https://player.bilibili.com/player.html?bvid={0}&page={1}'.format(id, page)\n",
        "          super(BiliVideo, self).__init__(src, width, height, **kwargs)\n",
        "\n",
        "  video = BiliVideo(id=\"BV1Hp4y1S7Au\", width=854, height=480, fs=1)\n",
        "  print('Video available at https://www.bilibili.com/video/{0}'.format(video.id))\n",
        "  display(video)\n",
        "\n",
        "out1 = widgets.Output()\n",
        "with out1:\n",
        "  from IPython.display import YouTubeVideo\n",
        "  video = YouTubeVideo(id=\"oHwYWUI_o1U\", width=854, height=480, fs=1, rel=0)\n",
        "  print('Video available at https://youtube.com/watch?v=' + video.id)\n",
        "  display(video)\n",
        "\n",
        "out = widgets.Tab([out1, out2])\n",
        "out.set_title(0, 'Youtube')\n",
        "out.set_title(1, 'Bilibili')\n",
        "\n",
        "display(out)"
      ]
    },
    {
      "cell_type": "markdown",
      "metadata": {
        "execution": {},
        "id": "aNn6nX-_qfn8"
      },
      "source": [
        "## Section 1.2: Getting warmer: counting and plotting total spike counts\n",
        "\n",
        "As we've seen, the number of spikes over the entire recording is variable between neurons. More generally, some neurons tend to spike more than others in a given period. Let's explore what the distribution of spiking looks like across all the neurons in the dataset."
      ]
    },
    {
      "cell_type": "markdown",
      "metadata": {
        "execution": {},
        "id": "KjUoJm0Yqfn8"
      },
      "source": [
        "Are most neurons \"loud\" or \"quiet\", compared to the average? To see, we'll define bins of constant width in terms of total spikes and count the neurons that fall in each bin. This is known as a \"histogram\".\n",
        "\n",
        "You can plot a histogram with the matplotlib function `plt.hist`. If you just need to compute it, you can use the numpy function `np.histogram` instead."
      ]
    },
    {
      "cell_type": "code",
      "execution_count": 17,
      "metadata": {
        "execution": {},
        "pycharm": {
          "name": "#%%\n"
        },
        "id": "ZDzn-EHsqfn9",
        "outputId": "51831f6e-dd08-48ee-bc2b-c3225f4c3e27",
        "colab": {
          "base_uri": "https://localhost:8080/",
          "height": 431
        }
      },
      "outputs": [
        {
          "output_type": "display_data",
          "data": {
            "text/plain": [
              "<Figure size 576x432 with 1 Axes>"
            ],
            "image/png": "[encoded data removed]"
          },
          "metadata": {
            "image/png": {
              "width": 558,
              "height": 414
            },
            "needs_background": "light"
          }
        }
      ],
      "source": [
        "plt.hist(total_spikes_per_neuron, bins=50, histtype=\"stepfilled\")\n",
        "plt.xlabel(\"Total spikes per neuron\")\n",
        "plt.ylabel(\"Number of neurons\");"
      ]
    },
    {
      "cell_type": "markdown",
      "metadata": {
        "execution": {},
        "id": "3lOtzT84qfn9"
      },
      "source": [
        "Let's see what percentage of neurons have a below-average spike count:"
      ]
    },
    {
      "cell_type": "code",
      "execution_count": 19,
      "metadata": {
        "execution": {},
        "pycharm": {
          "name": "#%%\n"
        },
        "id": "Apo_P2h9qfn9",
        "outputId": "a7f05152-1500-4e82-d67f-33179b5174dd",
        "colab": {
          "base_uri": "https://localhost:8080/"
        }
      },
      "outputs": [
        {
          "output_type": "stream",
          "name": "stdout",
          "text": [
            "68.0% of neurons are below the mean\n"
          ]
        }
      ],
      "source": [
        "mean_spike_count = np.mean(total_spikes_per_neuron)\n",
        "frac_below_mean = (total_spikes_per_neuron < mean_spike_count).mean()\n",
        "print(f\"{frac_below_mean:2.1%} of neurons are below the mean\")"
      ]
    },
    {
      "cell_type": "markdown",
      "metadata": {
        "execution": {},
        "id": "UGr7lJjEqfn9"
      },
      "source": [
        "We can also see this by adding the average spike count to the histogram plot:"
      ]
    },
    {
      "cell_type": "code",
      "execution_count": 20,
      "metadata": {
        "execution": {},
        "pycharm": {
          "name": "#%%\n"
        },
        "id": "820MhFdOqfn9",
        "outputId": "169840b6-d403-4ea9-de9d-28041344e272",
        "colab": {
          "base_uri": "https://localhost:8080/",
          "height": 431
        }
      },
      "outputs": [
        {
          "output_type": "display_data",
          "data": {
            "text/plain": [
              "<Figure size 576x432 with 1 Axes>"
            ],
            "image/png": "[encoded data removed]"
          },
          "metadata": {
            "image/png": {
              "width": 558,
              "height": 414
            },
            "needs_background": "light"
          }
        }
      ],
      "source": [
        "plt.hist(total_spikes_per_neuron, bins=50, histtype=\"stepfilled\")\n",
        "plt.xlabel(\"Total spikes per neuron\")\n",
        "plt.ylabel(\"Number of neurons\")\n",
        "plt.axvline(mean_spike_count, color=\"orange\", label=\"Mean neuron\")\n",
        "plt.legend();"
      ]
    },
    {
      "cell_type": "markdown",
      "metadata": {
        "execution": {},
        "id": "4OQUl3OPqfn9"
      },
      "source": [
        "This shows that the majority of neurons are relatively \"quiet\" compared to the mean, while a small number of neurons are exceptionally \"loud\": they must have spiked more often to reach a large count.\n",
        "\n",
        "### Coding Exercise 1.2: Comparing mean and median neurons\n",
        "\n",
        "If the mean neuron is more active than 68% of the population, what does that imply about the relationship between the mean neuron and the median neuron?\n",
        "\n",
        "*Exercise objective:* Reproduce the plot above, but add the median neuron.\n"
      ]
    },
    {
      "cell_type": "code",
      "execution_count": 23,
      "metadata": {
        "execution": {},
        "pycharm": {
          "name": "#%%\n"
        },
        "id": "pT4EOdIZqfn9",
        "outputId": "82ee2973-6191-464c-f102-ecba82b6efe8",
        "colab": {
          "base_uri": "https://localhost:8080/",
          "height": 449
        }
      },
      "outputs": [
        {
          "output_type": "execute_result",
          "data": {
            "text/plain": [
              "<matplotlib.legend.Legend at 0x7fa1934dff90>"
            ]
          },
          "metadata": {},
          "execution_count": 23
        },
        {
          "output_type": "display_data",
          "data": {
            "text/plain": [
              "<Figure size 576x432 with 1 Axes>"
            ],
            "image/png": "[encoded data removed]"
          },
          "metadata": {
            "image/png": {
              "width": 558,
              "height": 414
            },
            "needs_background": "light"
          }
        }
      ],
      "source": [
        "#################################################################################\n",
        "## TODO for students:\n",
        "# Fill out function and remove\n",
        "#raise NotImplementedError(\"Student exercise: complete histogram plotting with median\")\n",
        "#################################################################################\n",
        "\n",
        "# Compute median spike count\n",
        "median_spike_count = np.median(total_spikes_per_neuron)  # Hint: Try the function np.median\n",
        "\n",
        "# Visualize median, mean, and histogram\n",
        "plt.hist(total_spikes_per_neuron, bins=50, histtype=\"stepfilled\")\n",
        "plt.axvline(median_spike_count, color=\"limegreen\", label=\"Median neuron\")\n",
        "plt.axvline(mean_spike_count, color=\"orange\", label=\"Mean neuron\")\n",
        "plt.xlabel(\"Total spikes per neuron\")\n",
        "plt.ylabel(\"Number of neurons\")\n",
        "plt.legend()"
      ]
    },
    {
      "cell_type": "markdown",
      "metadata": {
        "execution": {},
        "pycharm": {
          "name": "#%%\n"
        },
        "id": "zF2YkUAqqfn-"
      },
      "source": [
        "[*Click for solution*](https://github.com/NeuromatchAcademy/course-content/tree/main//tutorials/W1D1_ModelTypes/solutions/W1D1_Tutorial1_Solution_9af91fe0.py)\n",
        "\n",
        "*Example output:*\n",
        "\n",
        "<img alt='Solution hint' align='left' width=1116.0 height=827.0 src=https://raw.githubusercontent.com/NeuromatchAcademy/course-content/main/tutorials/W1D1_ModelTypes/static/W1D1_Tutorial1_Solution_9af91fe0_0.png>\n",
        "\n"
      ]
    },
    {
      "cell_type": "markdown",
      "metadata": {
        "execution": {},
        "id": "G9oax-fkqfn-"
      },
      "source": [
        "\n",
        "*Bonus:* The median is the 50th percentile. What about other percentiles? Can you show the interquartile range on the histogram?"
      ]
    },
    {
      "cell_type": "markdown",
      "metadata": {
        "execution": {},
        "id": "KusMpy1hqfn-"
      },
      "source": [
        "---\n",
        "\n",
        "# Section 2: Visualizing neuronal spiking activity\n",
        "\n",
        "*Estimated timing to here from start of tutorial: 15 min*"
      ]
    },
    {
      "cell_type": "markdown",
      "metadata": {
        "execution": {},
        "id": "NyVekrk_qfn-"
      },
      "source": [
        "## Section 2.1: Getting a subset of the data\n",
        "\n",
        "Now we'll visualize trains of spikes. Because the recordings are long, we will first define a short time interval and restrict the visualization to only the spikes in this interval. We defined a helper function, `restrict_spike_times`, to do this for you. If you call `help()` on the function, it will tell you a little bit about itself:"
      ]
    },
    {
      "cell_type": "code",
      "execution_count": 24,
      "metadata": {
        "execution": {},
        "id": "NIOJpbUDqfn-"
      },
      "outputs": [],
      "source": [
        "# @markdown Execute this cell for helper function `restrict_spike_times`\n",
        "def restrict_spike_times(spike_times, interval):\n",
        "  \"\"\"Given a spike_time dataset, restrict to spikes within given interval.\n",
        "\n",
        "  Args:\n",
        "    spike_times (sequence of np.ndarray): List or array of arrays,\n",
        "      each inner array has spike times for a single neuron.\n",
        "    interval (tuple): Min, max time values; keep min <= t < max.\n",
        "\n",
        "  Returns:\n",
        "    np.ndarray: like `spike_times`, but only within `interval`\n",
        "  \"\"\"\n",
        "  interval_spike_times = []\n",
        "  for spikes in spike_times:\n",
        "    interval_mask = (spikes >= interval[0]) & (spikes < interval[1])\n",
        "    interval_spike_times.append(spikes[interval_mask])\n",
        "  return np.array(interval_spike_times, object)"
      ]
    },
    {
      "cell_type": "code",
      "execution_count": 25,
      "metadata": {
        "execution": {},
        "pycharm": {
          "name": "#%%\n"
        },
        "id": "Ej0qq35Tqfn-",
        "outputId": "2b206a04-fdc8-4b02-cb1d-3ded60ca4072",
        "colab": {
          "base_uri": "https://localhost:8080/"
        }
      },
      "outputs": [
        {
          "output_type": "stream",
          "name": "stdout",
          "text": [
            "Help on function restrict_spike_times in module __main__:\n",
            "\n",
            "restrict_spike_times(spike_times, interval)\n",
            "    Given a spike_time dataset, restrict to spikes within given interval.\n",
            "    \n",
            "    Args:\n",
            "      spike_times (sequence of np.ndarray): List or array of arrays,\n",
            "        each inner array has spike times for a single neuron.\n",
            "      interval (tuple): Min, max time values; keep min <= t < max.\n",
            "    \n",
            "    Returns:\n",
            "      np.ndarray: like `spike_times`, but only within `interval`\n",
            "\n"
          ]
        }
      ],
      "source": [
        "help(restrict_spike_times)"
      ]
    },
    {
      "cell_type": "code",
      "execution_count": 26,
      "metadata": {
        "execution": {},
        "pycharm": {
          "name": "#%%\n"
        },
        "id": "x-f_e7CJqfn_"
      },
      "outputs": [],
      "source": [
        "t_interval = (5, 15)  # units are seconds after start of recording\n",
        "interval_spike_times = restrict_spike_times(spike_times, t_interval)"
      ]
    },
    {
      "cell_type": "markdown",
      "metadata": {
        "execution": {},
        "id": "vlNwLEbcqfn_"
      },
      "source": [
        "Is this a representative interval? What fraction of the total spikes fall in this interval?"
      ]
    },
    {
      "cell_type": "code",
      "execution_count": 27,
      "metadata": {
        "execution": {},
        "pycharm": {
          "name": "#%%\n"
        },
        "id": "PMM-Wl2fqfn_",
        "outputId": "75cda9e7-ffad-4555-8301-8376c7b3bad6",
        "colab": {
          "base_uri": "https://localhost:8080/"
        }
      },
      "outputs": [
        {
          "output_type": "stream",
          "name": "stdout",
          "text": [
            "0.33% of the total spikes are in the interval\n"
          ]
        }
      ],
      "source": [
        "original_counts = sum([len(spikes) for spikes in spike_times])\n",
        "interval_counts = sum([len(spikes) for spikes in interval_spike_times])\n",
        "frac_interval_spikes = interval_counts / original_counts\n",
        "print(f\"{frac_interval_spikes:.2%} of the total spikes are in the interval\")"
      ]
    },
    {
      "cell_type": "markdown",
      "metadata": {
        "execution": {},
        "id": "lYCsfLqJqfn_"
      },
      "source": [
        "How does this compare to the ratio between the interval duration and the experiment duration? (What fraction of the total time is in this interval?)\n",
        "\n",
        "We can approximate the experiment duration by taking the minimum and maximum spike time in the whole dataset. To do that, we \"concatenate\" all of the neurons into one array and then use `np.ptp` (\"peak-to-peak\") to get the difference between the maximum and minimum value:"
      ]
    },
    {
      "cell_type": "code",
      "execution_count": 29,
      "metadata": {
        "execution": {},
        "pycharm": {
          "name": "#%%\n"
        },
        "id": "J68jpRRGqfn_",
        "outputId": "8fa3740a-6958-49dd-dae1-a5c9c296178c",
        "colab": {
          "base_uri": "https://localhost:8080/"
        }
      },
      "outputs": [
        {
          "output_type": "stream",
          "name": "stdout",
          "text": [
            "0.37% of the total time is in the interval\n"
          ]
        }
      ],
      "source": [
        "spike_times_flat = np.concatenate(spike_times)\n",
        "experiment_duration = np.ptp(spike_times_flat)\n",
        "interval_duration = t_interval[1] - t_interval[0]\n",
        "\n",
        "frac_interval_time = interval_duration / experiment_duration\n",
        "print(f\"{frac_interval_time:.2%} of the total time is in the interval\")"
      ]
    },
    {
      "cell_type": "markdown",
      "metadata": {
        "execution": {},
        "id": "6ygJ_9Xmqfn_"
      },
      "source": [
        "These two values—the fraction of total spikes and the fraction of total time—are similar. This suggests the average spike rate of the neuronal population is not very different in this interval compared to the entire recording.\n",
        "\n",
        "## Section 2.2: Plotting spike trains and rasters\n",
        "\n",
        "Now that we have a representative subset, we're ready to plot the spikes, using the matplotlib `plt.eventplot` function. Let's look at a single neuron first:"
      ]
    },
    {
      "cell_type": "code",
      "execution_count": 30,
      "metadata": {
        "execution": {},
        "pycharm": {
          "name": "#%%\n"
        },
        "id": "QjS4OOwkqfn_",
        "outputId": "0841da0b-aaa2-47cb-d822-78b249e7b737",
        "colab": {
          "base_uri": "https://localhost:8080/",
          "height": 431
        }
      },
      "outputs": [
        {
          "output_type": "display_data",
          "data": {
            "text/plain": [
              "<Figure size 576x432 with 1 Axes>"
            ],
            "image/png": "[encoded data removed]"
          },
          "metadata": {
            "image/png": {
              "width": 557,
              "height": 414
            },
            "needs_background": "light"
          }
        }
      ],
      "source": [
        "neuron_idx = 1\n",
        "plt.eventplot(interval_spike_times[neuron_idx], color=\".2\")\n",
        "plt.xlabel(\"Time (s)\")\n",
        "plt.yticks([]);"
      ]
    },
    {
      "cell_type": "markdown",
      "metadata": {
        "execution": {},
        "id": "h8iF2g2AqfoA"
      },
      "source": [
        "We can also plot multiple neurons. Here are three:"
      ]
    },
    {
      "cell_type": "code",
      "execution_count": 31,
      "metadata": {
        "execution": {},
        "pycharm": {
          "name": "#%%\n"
        },
        "id": "mHXBgOd0qfoA",
        "outputId": "4d638e21-2112-4d71-f7d6-fd2a221a0164",
        "colab": {
          "base_uri": "https://localhost:8080/",
          "height": 430
        }
      },
      "outputs": [
        {
          "output_type": "display_data",
          "data": {
            "text/plain": [
              "<Figure size 576x432 with 1 Axes>"
            ],
            "image/png": "[encoded data removed]"
          },
          "metadata": {
            "image/png": {
              "width": 557,
              "height": 413
            },
            "needs_background": "light"
          }
        }
      ],
      "source": [
        "neuron_idx = [1, 11, 51]\n",
        "plt.eventplot(interval_spike_times[neuron_idx], color=\".2\")\n",
        "plt.xlabel(\"Time (s)\")\n",
        "plt.yticks([]);"
      ]
    },
    {
      "cell_type": "markdown",
      "metadata": {
        "execution": {},
        "id": "gdKEYPM1qfoA"
      },
      "source": [
        "This makes a \"raster\" plot, where the spikes from each neuron appear in a different row.\n",
        "\n",
        "Plotting a large number of neurons can give you a sense for the characteristics in the population. Let's show every 5th neuron that was recorded:"
      ]
    },
    {
      "cell_type": "code",
      "execution_count": 32,
      "metadata": {
        "execution": {},
        "pycharm": {
          "name": "#%%\n"
        },
        "id": "VrV0QosdqfoA",
        "outputId": "6ab31f98-8e12-43eb-c0e1-4feef1310e88",
        "colab": {
          "base_uri": "https://localhost:8080/",
          "height": 430
        }
      },
      "outputs": [
        {
          "output_type": "display_data",
          "data": {
            "text/plain": [
              "<Figure size 576x432 with 1 Axes>"
            ],
            "image/png": "[encoded data removed]"
          },
          "metadata": {
            "image/png": {
              "width": 558,
              "height": 413
            },
            "needs_background": "light"
          }
        }
      ],
      "source": [
        "neuron_idx = np.arange(0, len(spike_times), 5)\n",
        "plt.eventplot(interval_spike_times[neuron_idx], color=\".2\")\n",
        "plt.xlabel(\"Time (s)\")\n",
        "plt.yticks([]);"
      ]
    },
    {
      "cell_type": "markdown",
      "metadata": {
        "execution": {},
        "id": "L2MsQmQEqfoA"
      },
      "source": [
        "*Question*: How does the information in this plot relate to the histogram of total spike counts that you saw above?"
      ]
    },
    {
      "cell_type": "markdown",
      "metadata": {
        "execution": {},
        "id": "M0L0kcMpqfoA"
      },
      "source": [
        "[*Click for solution*](https://github.com/NeuromatchAcademy/course-content/tree/main//tutorials/W1D1_ModelTypes/solutions/W1D1_Tutorial1_Solution_b01195c9.py)\n",
        "\n"
      ]
    },
    {
      "cell_type": "code",
      "execution_count": 33,
      "metadata": {
        "cellView": "form",
        "execution": {},
        "id": "goCBHIrJqfoA",
        "outputId": "3d3b3b30-e056-4658-f2b7-9ccaa3fcfdf2",
        "colab": {
          "base_uri": "https://localhost:8080/",
          "height": 581,
          "referenced_widgets": [
            "151f4d54147d42448ba94bf77521e269",
            "f6c761615e4046e4924d327e8536c146",
            "214d9165e5be4dc08ca3f0e3470e9011",
            "d3047cf2501e4efcbe7168591be2cdf1",
            "7cbc905d74734828b84adb6e7d8a4667",
            "e80827bbb9bf41eeb817fe720e477fdd"
          ]
        }
      },
      "outputs": [
        {
          "output_type": "display_data",
          "data": {
            "text/plain": [
              "Tab(children=(Output(), Output()), _titles={'0': 'Youtube', '1': 'Bilibili'})"
            ],
            "application/vnd.jupyter.widget-view+json": {
              "version_major": 2,
              "version_minor": 0,
              "model_id": "151f4d54147d42448ba94bf77521e269"
            }
          },
          "metadata": {}
        }
      ],
      "source": [
        "# @title Video 3: Visualizing activity\n",
        "from ipywidgets import widgets\n",
        "\n",
        "out2 = widgets.Output()\n",
        "with out2:\n",
        "  from IPython.display import IFrame\n",
        "  class BiliVideo(IFrame):\n",
        "      def __init__(self, id, page=1, width=400, height=300, **kwargs):\n",
        "          self.id=id\n",
        "          src = 'https://player.bilibili.com/player.html?bvid={0}&page={1}'.format(id, page)\n",
        "          super(BiliVideo, self).__init__(src, width, height, **kwargs)\n",
        "\n",
        "  video = BiliVideo(id=\"BV1dt4y1Q7C5\", width=854, height=480, fs=1)\n",
        "  print('Video available at https://www.bilibili.com/video/{0}'.format(video.id))\n",
        "  display(video)\n",
        "\n",
        "out1 = widgets.Output()\n",
        "with out1:\n",
        "  from IPython.display import YouTubeVideo\n",
        "  video = YouTubeVideo(id=\"QGA5FCW7kkA\", width=854, height=480, fs=1, rel=0)\n",
        "  print('Video available at https://youtube.com/watch?v=' + video.id)\n",
        "  display(video)\n",
        "\n",
        "out = widgets.Tab([out1, out2])\n",
        "out.set_title(0, 'Youtube')\n",
        "out.set_title(1, 'Bilibili')\n",
        "\n",
        "display(out)"
      ]
    },
    {
      "cell_type": "markdown",
      "metadata": {
        "execution": {},
        "id": "bAV_JzkmqfoB"
      },
      "source": [
        "---\n",
        "\n",
        "# Section 3: Inter-spike intervals and their distributions\n",
        "\n",
        "*Estimated timing to here from start of tutorial: 25 min*"
      ]
    },
    {
      "cell_type": "markdown",
      "metadata": {
        "execution": {},
        "id": "eOCUysQhqfoB"
      },
      "source": [
        "Given the ordered arrays of spike times for each neuron in `spike_times`, which we've just visualized, what can we ask next?\n",
        "\n",
        "Scientific questions are informed by existing models. So, what knowledge do we already have that can inform questions about this data?\n",
        "\n",
        "We know that there are physical constraints on neuron spiking. Spiking costs energy, which the neuron's cellular machinery can only obtain at a finite rate. Therefore neurons should have a refractory period: they can only fire as quickly as their metabolic processes can support, and there is a minimum delay between consecutive spikes of the same neuron.\n",
        "\n",
        "More generally, we can ask \"how long does a neuron wait to spike again?\" or \"what is the longest a neuron will wait?\" Can we transform spike times into something else, to address questions like these more directly?\n",
        "\n",
        "We can consider the inter-spike times (or interspike intervals: ISIs). These are simply the time differences between consecutive spikes of the same neuron.\n",
        "\n",
        "### Exercise 3: Plot the distribution of ISIs for a single neuron\n",
        "\n",
        "*Exercise objective:* make a histogram, like we did for spike counts, to show the distribution of ISIs for one of the neurons in the dataset.\n",
        "\n",
        "Do this in three steps:\n",
        "\n",
        "1. Extract the spike times for one of the neurons\n",
        "2. Compute the ISIs (the amount of time between spikes, or equivalently, the difference between adjacent spike times)\n",
        "3. Plot a histogram with the array of individual ISIs"
      ]
    },
    {
      "cell_type": "code",
      "execution_count": 35,
      "metadata": {
        "execution": {},
        "pycharm": {
          "name": "#%%\n"
        },
        "id": "t8gDeKS6qfoB",
        "outputId": "768de7e5-92ad-4c1b-ba82-a2a5f7804ae1",
        "colab": {
          "base_uri": "https://localhost:8080/",
          "height": 430
        }
      },
      "outputs": [
        {
          "output_type": "display_data",
          "data": {
            "text/plain": [
              "<Figure size 576x432 with 1 Axes>"
            ],
            "image/png": "[encoded data removed]"
          },
          "metadata": {
            "image/png": {
              "width": 558,
              "height": 413
            },
            "needs_background": "light"
          }
        }
      ],
      "source": [
        "def compute_single_neuron_isis(spike_times, neuron_idx):\n",
        "  \"\"\"Compute a vector of ISIs for a single neuron given spike times.\n",
        "\n",
        "  Args:\n",
        "    spike_times (list of 1D arrays): Spike time dataset, with the first\n",
        "      dimension corresponding to different neurons.\n",
        "    neuron_idx (int): Index of the unit to compute ISIs for.\n",
        "\n",
        "  Returns:\n",
        "    isis (1D array): Duration of time between each spike from one neuron.\n",
        "  \"\"\"\n",
        "  #############################################################################\n",
        "  # Students: Fill in missing code (...) and comment or remove the next line\n",
        "  #raise NotImplementedError(\"Exercise: compute single neuron ISIs\")\n",
        "  #############################################################################\n",
        "\n",
        "  # Extract the spike times for the specified neuron\n",
        "  single_neuron_spikes = spike_times[neuron_idx]\n",
        "\n",
        "  # Compute the ISIs for this set of spikes\n",
        "  # Hint: the function np.diff computes discrete differences along an array\n",
        "  isis = np.diff(single_neuron_spikes)\n",
        "\n",
        "  return isis\n",
        "\n",
        "# Compute ISIs\n",
        "single_neuron_isis = compute_single_neuron_isis(spike_times, neuron_idx=283)\n",
        "\n",
        "# Visualize ISIs\n",
        "plot_isis(single_neuron_isis)"
      ]
    },
    {
      "cell_type": "markdown",
      "metadata": {
        "execution": {},
        "pycharm": {
          "name": "#%%\n"
        },
        "id": "VZ-yqAjdqfoB"
      },
      "source": [
        "[*Click for solution*](https://github.com/NeuromatchAcademy/course-content/tree/main//tutorials/W1D1_ModelTypes/solutions/W1D1_Tutorial1_Solution_2972c168.py)\n",
        "\n",
        "*Example output:*\n",
        "\n",
        "<img alt='Solution hint' align='left' width=1116.0 height=828.0 src=https://raw.githubusercontent.com/NeuromatchAcademy/course-content/main/tutorials/W1D1_ModelTypes/static/W1D1_Tutorial1_Solution_2972c168_0.png>\n",
        "\n"
      ]
    },
    {
      "cell_type": "markdown",
      "metadata": {
        "execution": {},
        "id": "rFELeQhWqfoB"
      },
      "source": [
        "---\n",
        "\n",
        "In general, the shorter ISIs are predominant, with counts decreasing rapidly (and smoothly, more or less) with increasing ISI. However, counts also rapidly decrease to zero with _decreasing_ ISI below the maximum of the distribution (8-11 ms). The absence of these very low ISIs agrees with the refractory period hypothesis: the neuron cannot fire quickly enough to populate this region of the ISI distribution.\n",
        "\n",
        "Check the distributions of some other neurons. To resolve various features of the distributions, you might need to play with the value of `bins` in the call to `plt.hist`. Using too few bins might smooth over interesting details, but if you use too many bins, the random variability will start to dominate.\n",
        "\n",
        "You might also want to restrict the range to see the shape of the distribution when focusing on relatively short or long ISIs. *Hint:* `plt.hist` takes a `range` argument"
      ]
    },
    {
      "cell_type": "markdown",
      "metadata": {
        "execution": {},
        "id": "FzHIA4tDqfoB"
      },
      "source": [
        "---\n",
        "\n",
        "# Section 4: What is the functional form of an ISI distribution?\n",
        "\n",
        "*Estimated timing to here from start of tutorial: 35 min*"
      ]
    },
    {
      "cell_type": "code",
      "execution_count": 36,
      "metadata": {
        "cellView": "form",
        "execution": {},
        "id": "jGMDYzqoqfoC",
        "outputId": "9df3c2e6-50fd-4554-fe1e-93cf12b26c6e",
        "colab": {
          "base_uri": "https://localhost:8080/",
          "height": 581,
          "referenced_widgets": [
            "32a0a6daef0844d0aff534bb07bb23a8",
            "1505c7c2abc444cdb7d1172e19e2e8cf",
            "bacc0d52f3e34441b5bfe8b966ca1b3b",
            "4e50979969444891854d43be6f108d4b",
            "cb05ea3c75fc48cfbed8cc4815ae6561",
            "417f6a2b6183449d8ad7156cfc402547"
          ]
        }
      },
      "outputs": [
        {
          "output_type": "display_data",
          "data": {
            "text/plain": [
              "Tab(children=(Output(), Output()), _titles={'0': 'Youtube', '1': 'Bilibili'})"
            ],
            "application/vnd.jupyter.widget-view+json": {
              "version_major": 2,
              "version_minor": 0,
              "model_id": "32a0a6daef0844d0aff534bb07bb23a8"
            }
          },
          "metadata": {}
        }
      ],
      "source": [
        "# @title Video 4: ISI distribution\n",
        "from ipywidgets import widgets\n",
        "\n",
        "out2 = widgets.Output()\n",
        "with out2:\n",
        "  from IPython.display import IFrame\n",
        "  class BiliVideo(IFrame):\n",
        "      def __init__(self, id, page=1, width=400, height=300, **kwargs):\n",
        "          self.id=id\n",
        "          src = 'https://player.bilibili.com/player.html?bvid={0}&page={1}'.format(id, page)\n",
        "          super(BiliVideo, self).__init__(src, width, height, **kwargs)\n",
        "\n",
        "  video = BiliVideo(id=\"BV1ov411B7Pm\", width=854, height=480, fs=1)\n",
        "  print('Video available at https://www.bilibili.com/video/{0}'.format(video.id))\n",
        "  display(video)\n",
        "\n",
        "out1 = widgets.Output()\n",
        "with out1:\n",
        "  from IPython.display import YouTubeVideo\n",
        "  video = YouTubeVideo(id=\"DHhM80MOTe8\", width=854, height=480, fs=1, rel=0)\n",
        "  print('Video available at https://youtube.com/watch?v=' + video.id)\n",
        "  display(video)\n",
        "\n",
        "out = widgets.Tab([out1, out2])\n",
        "out.set_title(0, 'Youtube')\n",
        "out.set_title(1, 'Bilibili')\n",
        "\n",
        "display(out)"
      ]
    },
    {
      "cell_type": "markdown",
      "metadata": {
        "execution": {},
        "id": "ep0ptaFNqfoC"
      },
      "source": [
        "The ISI histograms seem to follow continuous, monotonically decreasing functions above their maxima. The function is clearly non-linear. Could it belong to a single family of functions?\n",
        "\n",
        "To motivate the idea of using a mathematical function to explain physiological phenomena, let's define a few different function forms that we might expect the relationship to follow: exponential, inverse, and linear."
      ]
    },
    {
      "cell_type": "code",
      "execution_count": 37,
      "metadata": {
        "execution": {},
        "pycharm": {
          "name": "#%%\n"
        },
        "id": "m4--c_g4qfoC"
      },
      "outputs": [],
      "source": [
        "def exponential(xs, scale, rate, x0):\n",
        "  \"\"\"A simple parameterized exponential function, applied element-wise.\n",
        "\n",
        "  Args:\n",
        "    xs (np.ndarray or float): Input(s) to the function.\n",
        "    scale (float): Linear scaling factor.\n",
        "    rate (float): Exponential growth (positive) or decay (negative) rate.\n",
        "    x0 (float): Horizontal offset.\n",
        "\n",
        "  \"\"\"\n",
        "  ys = scale * np.exp(rate * (xs - x0))\n",
        "  return ys\n",
        "\n",
        "def inverse(xs, scale, x0):\n",
        "  \"\"\"A simple parameterized inverse function (`1/x`), applied element-wise.\n",
        "\n",
        "  Args:\n",
        "    xs (np.ndarray or float): Input(s) to the function.\n",
        "    scale (float): Linear scaling factor.\n",
        "    x0 (float): Horizontal offset.\n",
        "\n",
        "  \"\"\"\n",
        "  ys = scale / (xs - x0)\n",
        "  return ys\n",
        "\n",
        "def linear(xs, slope, y0):\n",
        "  \"\"\"A simple linear function, applied element-wise.\n",
        "\n",
        "  Args:\n",
        "    xs (np.ndarray or float): Input(s) to the function.\n",
        "    slope (float): Slope of the line.\n",
        "    y0 (float): y-intercept of the line.\n",
        "\n",
        "  \"\"\"\n",
        "  ys = slope * xs + y0\n",
        "  return ys"
      ]
    },
    {
      "cell_type": "markdown",
      "metadata": {
        "execution": {},
        "id": "pz-kQpmyqfoC"
      },
      "source": [
        "### Interactive Demo 4: ISI functions explorer\n",
        "\n",
        "Here is an interactive demo where you can vary the parameters of these functions and see how well the resulting outputs correspond to the data. Adjust the parameters by moving the sliders and see how close you can get the lines to follow the falling curve of the histogram. This will give you a taste of what you're trying to do when you *fit a model* to data.\n",
        "\n",
        "\"Interactive demo\" cells have hidden code that defines an interface where you can play with the parameters of some function using sliders. You don't need to worry about how the code works – but you do need to **run the cell** to enable the sliders.\n",
        "\n",
        "- Which type of function (exponential/inverse/linear) can you make match the data best?\n"
      ]
    },
    {
      "cell_type": "code",
      "execution_count": 38,
      "metadata": {
        "cellView": "form",
        "execution": {},
        "pycharm": {
          "name": "#%%\n"
        },
        "id": "ytCls2g_qfoC",
        "outputId": "b42f2689-0320-4863-88f9-a189f9b8a472",
        "colab": {
          "base_uri": "https://localhost:8080/",
          "height": 654,
          "referenced_widgets": [
            "e267e79567524a97a8a53c63ccdc8511",
            "d9fbae0bf7db44cd96ff6ab66cd2e6da",
            "5eff09e6a58b4653b9725520a9bed878",
            "f571c7331be9418f8e541b437af8bae3",
            "1b6040abb7254168bcac6d05076fd596",
            "d8a886523abf4a449b61cbe6ccc1f1bd",
            "482659291fa640a2b944f2e01b5d7cb2",
            "48410508b02348799d9b14287d426813",
            "337a533d46494c57b051ea701dd38fc9",
            "48484a3677e044f898bd3700406c62a3",
            "81a8e697f48d46ebb34a1440203e5cd9",
            "11e321691270481d9b37f9e806cc5bdc",
            "87f40d7f0f464f1293e55d60a3d72007",
            "5e68924cf52f48a0851107925569a49d",
            "dca82c48400045a1a619e8f6e52fabc6",
            "2833d15bfbf843cfb72bf498d16fce28",
            "0b83f3eb62524d4ab9db1142dd3b2f1d",
            "0e1dbcf5f16442c793e97b63fd5377a3",
            "21bf838bdd2e4876be4bac6623b0b99f",
            "b87c28d7fb9843cbb186db1ba3eeee4e",
            "d845525e02554e2e9f9820fcbb8385bf",
            "f53b46ac81534ebaac6d952eb2e7c943",
            "85c0c080995740b19fadf348bfddbcd5",
            "1817a04f408044ab9663717a21cf6898",
            "ee85831d98fd442cabc8dd118ccad73b"
          ]
        }
      },
      "outputs": [
        {
          "output_type": "display_data",
          "data": {
            "text/plain": [
              "interactive(children=(FloatSlider(value=1000.0, description='exp_scale', max=20000.0, step=250.0), FloatSlider…"
            ],
            "application/vnd.jupyter.widget-view+json": {
              "version_major": 2,
              "version_minor": 0,
              "model_id": "e267e79567524a97a8a53c63ccdc8511"
            }
          },
          "metadata": {}
        }
      ],
      "source": [
        "#@title\n",
        "\n",
        "#@markdown Be sure to run this cell to enable the demo\n",
        "# Don't worry about understanding this code! It's to setup an interactive plot.\n",
        "single_neuron_idx = 283\n",
        "single_neuron_spikes = spike_times[single_neuron_idx]\n",
        "single_neuron_isis = np.diff(single_neuron_spikes)\n",
        "\n",
        "counts, edges = np.histogram(\n",
        "  single_neuron_isis,\n",
        "  bins=50,\n",
        "  range=(0, single_neuron_isis.max())\n",
        ")\n",
        "\n",
        "functions = dict(\n",
        "  exponential=exponential,\n",
        "  inverse=inverse,\n",
        "  linear=linear,\n",
        ")\n",
        "\n",
        "colors = dict(\n",
        "  exponential=\"C1\",\n",
        "  inverse=\"C2\",\n",
        "  linear=\"C4\",\n",
        ")\n",
        "\n",
        "@widgets.interact(\n",
        "  exp_scale=widgets.FloatSlider(1000, min=0, max=20000, step=250),\n",
        "  exp_rate=widgets.FloatSlider(-10, min=-200, max=50, step=1),\n",
        "  exp_x0=widgets.FloatSlider(0.1, min=-0.5, max=0.5, step=0.005),\n",
        "  inv_scale=widgets.FloatSlider(1000, min=0, max=3e2, step=10),\n",
        "  inv_x0=widgets.FloatSlider(0, min=-0.2, max=0.2, step=0.01),\n",
        "  lin_slope=widgets.FloatSlider(-1e5, min=-6e5, max=1e5, step=10000),\n",
        "  lin_y0=widgets.FloatSlider(10000, min=0, max=4e4, step=1000),\n",
        ")\n",
        "def fit_plot(\n",
        "  exp_scale=1000, exp_rate=-10, exp_x0=0.1,\n",
        "  inv_scale=1000, inv_x0=0,\n",
        "  lin_slope=-1e5, lin_y0=2000,\n",
        "):\n",
        "  \"\"\"Helper function for plotting function fits with interactive sliders.\"\"\"\n",
        "  func_params = dict(\n",
        "    exponential=(exp_scale, exp_rate, exp_x0),\n",
        "    inverse=(inv_scale, inv_x0),\n",
        "    linear=(lin_slope, lin_y0),\n",
        "  )\n",
        "  f, ax = plt.subplots()\n",
        "  ax.fill_between(edges[:-1], counts, step=\"post\", alpha=.5)\n",
        "  xs = np.linspace(1e-10, edges.max())\n",
        "  for name, function in functions.items():\n",
        "    ys = function(xs, *func_params[name])\n",
        "    ax.plot(xs, ys, lw=3, color=colors[name], label=name);\n",
        "  ax.set(\n",
        "      xlim=(edges.min(), edges.max()),\n",
        "      ylim=(0, counts.max() * 1.1),\n",
        "      xlabel=\"ISI (s)\",\n",
        "      ylabel=\"Number of spikes\",\n",
        "  )\n",
        "  ax.legend()"
      ]
    },
    {
      "cell_type": "markdown",
      "metadata": {
        "execution": {},
        "id": "PDnsFOhkqfoD"
      },
      "source": [
        "[*Click for solution*](https://github.com/NeuromatchAcademy/course-content/tree/main//tutorials/W1D1_ModelTypes/solutions/W1D1_Tutorial1_Solution_b6cd7761.py)\n",
        "\n"
      ]
    },
    {
      "cell_type": "code",
      "execution_count": 39,
      "metadata": {
        "cellView": "form",
        "execution": {},
        "id": "1BNv7bTOqfoD",
        "outputId": "673183e5-bad7-4fc8-83c9-037853378584",
        "colab": {
          "base_uri": "https://localhost:8080/",
          "height": 581,
          "referenced_widgets": [
            "3f619c1a68d7410f907bca1b5365be8e",
            "ec52340069c24b54a62e8d55cdc59e2b",
            "917e06d9b5d64cb6a9b14cd988896ad3",
            "3cb2efe8804443c4b66055571f0e2b73",
            "a268cea4529e4727bb8227753fa9decd",
            "7aa82f7ba2f3444fb845c8bc8da3c5b0"
          ]
        }
      },
      "outputs": [
        {
          "output_type": "display_data",
          "data": {
            "text/plain": [
              "Tab(children=(Output(), Output()), _titles={'0': 'Youtube', '1': 'Bilibili'})"
            ],
            "application/vnd.jupyter.widget-view+json": {
              "version_major": 2,
              "version_minor": 0,
              "model_id": "3f619c1a68d7410f907bca1b5365be8e"
            }
          },
          "metadata": {}
        }
      ],
      "source": [
        "# @title Video 5: Fitting models by hand\n",
        "from ipywidgets import widgets\n",
        "\n",
        "out2 = widgets.Output()\n",
        "with out2:\n",
        "  from IPython.display import IFrame\n",
        "  class BiliVideo(IFrame):\n",
        "      def __init__(self, id, page=1, width=400, height=300, **kwargs):\n",
        "          self.id=id\n",
        "          src = 'https://player.bilibili.com/player.html?bvid={0}&page={1}'.format(id, page)\n",
        "          super(BiliVideo, self).__init__(src, width, height, **kwargs)\n",
        "\n",
        "  video = BiliVideo(id=\"BV1w54y1S7Eb\", width=854, height=480, fs=1)\n",
        "  print('Video available at https://www.bilibili.com/video/{0}'.format(video.id))\n",
        "  display(video)\n",
        "\n",
        "out1 = widgets.Output()\n",
        "with out1:\n",
        "  from IPython.display import YouTubeVideo\n",
        "  video = YouTubeVideo(id=\"uW2HDk_4-wk\", width=854, height=480, fs=1, rel=0)\n",
        "  print('Video available at https://youtube.com/watch?v=' + video.id)\n",
        "  display(video)\n",
        "\n",
        "out = widgets.Tab([out1, out2])\n",
        "out.set_title(0, 'Youtube')\n",
        "out.set_title(1, 'Bilibili')\n",
        "\n",
        "display(out)"
      ]
    },
    {
      "cell_type": "markdown",
      "metadata": {
        "execution": {},
        "id": "B_m-9R3bqfoD"
      },
      "source": [
        "---\n",
        "# Section 5: Reflecting on what models\n",
        "\n",
        "*Estimated timing to here from start of tutorial: 40 min*"
      ]
    },
    {
      "cell_type": "markdown",
      "metadata": {
        "execution": {},
        "id": "hIM-f0eTqfoD"
      },
      "source": [
        "## Think! 5: Reflecting on what models\n",
        "\n",
        "Please discuss the following questions for around 10 minutes with your group:\n",
        "- Have you seen what models before?\n",
        "- Have you ever done one?\n",
        "- Why are what models useful?\n",
        "- When are they possible? Does your field have what models?\n",
        "- What do we learn from constructing them?"
      ]
    },
    {
      "cell_type": "markdown",
      "metadata": {
        "execution": {},
        "id": "vy_-2wRFqfoD"
      },
      "source": [
        "---\n",
        "# Summary\n",
        "\n",
        "*Estimated timing of tutorial: 50 minutes*\n",
        "\n",
        "In this tutorial, we loaded some neural data and poked at it to understand how the dataset is organized. Then we made some basic plots to visualize (1) the average level of activity across the population and (2) the distribution of ISIs for an individual neuron. In the very last bit, we started to think about using mathematical formalisms to understand or explain some physiological phenomenon. All of this only allowed us to understand \"What\" the data looks like.\n",
        "\n",
        "This is the first step towards developing models that can tell us something about the brain. That's what we'll focus on in the next two tutorials."
      ]
    }
  ],
  "metadata": {
    "colab": {
      "collapsed_sections": [],
      "name": "W1D1_Tutorial1",
      "provenance": [],
      "toc_visible": true,
      "include_colab_link": true
    },
    "kernel": {
      "display_name": "Python 3",
      "language": "python",
      "name": "python3"
    },
    "kernelspec": {
      "display_name": "Python 3",
      "name": "python3"
    },
    "language_info": {
      "codemirror_mode": {
        "name": "ipython",
        "version": 3
      },
      "file_extension": ".py",
      "mimetype": "text/x-python",
      "name": "python",
      "nbconvert_exporter": "python",
      "pygments_lexer": "ipython3",
      "version": "3.7.13"
    },
    "widgets": {
      "application/vnd.jupyter.widget-state+json": {
        "54b1e650991941b8b688d328be587870": {
          "model_module": "@jupyter-widgets/controls",
          "model_name": "TabModel",
          "model_module_version": "1.5.0",
          "state": {
            "_dom_classes": [],
            "_model_module": "@jupyter-widgets/controls",
            "_model_module_version": "1.5.0",
            "_model_name": "TabModel",
            "_titles": {
              "0": "Youtube",
              "1": "Bilibili"
            },
            "_view_count": null,
            "_view_module": "@jupyter-widgets/controls",
            "_view_module_version": "1.5.0",
            "_view_name": "TabView",
            "box_style": "",
            "children": [
              "IPY_MODEL_30345b4e40ca4dc885b849b1e3ec6cab",
              "IPY_MODEL_5c1c5aeb10bf4662bb36117ca7481196"
            ],
            "layout": "IPY_MODEL_9144cc3a47ed4c8fba5d14ba91eb5866",
            "selected_index": 0
          }
        },
        "30345b4e40ca4dc885b849b1e3ec6cab": {
          "model_module": "@jupyter-widgets/output",
          "model_name": "OutputModel",
          "model_module_version": "1.0.0",
          "state": {
            "_dom_classes": [],
            "_model_module": "@jupyter-widgets/output",
            "_model_module_version": "1.0.0",
            "_model_name": "OutputModel",
            "_view_count": null,
            "_view_module": "@jupyter-widgets/output",
            "_view_module_version": "1.0.0",
            "_view_name": "OutputView",
            "layout": "IPY_MODEL_f1c948cca86a451f97983267aebeb867",
            "msg_id": "",
            "outputs": [
              {
                "output_type": "stream",
                "name": "stdout",
                "text": [
                  "Video available at https://youtube.com/watch?v=oHwYWUI_o1U\n"
                ]
              },
              {
                "output_type": "display_data",
                "data": {
                  "text/plain": "<IPython.lib.display.YouTubeVideo at 0x7fa19c02a510>",
                  "text/html": "\n        <iframe\n            width=\"854\"\n            height=\"480\"\n            src=\"https://www.youtube.com/embed/oHwYWUI_o1U?fs=1&rel=0\"\n            frameborder=\"0\"\n            allowfullscreen\n        ></iframe>\n        ",
                  "image/jpeg": "/9j/4AAQSkZJRgABAQAAAQABAAD/2wCEAAUDBAkICgsICAgICAgKCgoICAgICggICAgICAoICggICAoIChALCAgOCggIDRUNDhERExMTCAsWGBYSGBASExIBBQUFCAcIDwgJDhINDg8SEhISEhISEhISEhISEhISEhISEhISEhISEhISEhISEhISEhISEhISEhISEhISEhISEv/AABEIAWgB4AMBIgACEQEDEQH/xAAdAAEAAgMBAQEBAAAAAAAAAAAABQYEBwgDAgEJ/8QAWhAAAQMCAwMGBgsMBggFBQAAAQACAwQRBRIhBhMxBxYiQVFSCBRhcZLSGCMyM1RVgZGT1OIVNUJzdZShpLGytNEJYnKCwfAkNjdDdLPh8Rc0VoO1JYWio8T/xAAaAQEBAAMBAQAAAAAAAAAAAAAAAQIEBQMG/8QALBEBAAIBAwIDBwUBAAAAAAAAAAECEQMEIRIxBUFRFCJhgbHB8BORodHxI//aAAwDAQACEQMRAD8A4yREQEREBERAREQEREBERAREQEREBERAREQEREBERAREQEREBERAREQEREBERAREQEREBERAREQEREBERAREQEREBERAREQEREBERAREQEREBERAREQEREBERAREQEREBERAREQEREBERAREQEREBERAREQEREBERAREQEREBERAREQEREBERAREQEREBERAREQEREBERART/NSfvw+k/wBROak/fh9J/qIIBFP81J+/D6T/AFE5qT9+H0n+oggEU/zUn78PpP8AUTmpP34fSf6iCART/NSfvw+k/wBROak/fh9J/qIIBFP81J+/D6T/AFE5qT9+H0n+oggEU/zUn78PpP8AUTmpP34fSf6iCART/NSfvw+k/wBROak/fh9J/qIIBFP81J+/D6T/AFE5qT9+H0n+oggEU/zUn78PpP8AUTmpP34fSf6iCART/NSfvw+k/wBROak/fh9J/qIIBFP81J+/D6T/AFE5qT9+H0n+oggEU/zUn78PpP8AUTmpP34fSf6iCART/NSfvw+k/wBROak/fh9J/qIIBFP81J+/D6T/AFE5qT9+H0n+oggEU/zUn78PpP8AUTmpP34fSf6iCART/NSfvw+k/wBROak/fh9J/qIIBFP81J+/D6T/AFE5qT9+H0n+oggEU/zUn78PpP8AUTmpP34fSf6iCART/NSfvw+k/wBROak/fh9J/qIIBFP81J+/D6T/AFE5qT9+H0n+oggEU/zUn78PpP8AUTmpP34fSf6iCART/NSfvw+k/wBROak/fh9J/qIIBFP81J+/D6T/AFE5qT9+H0n+oggEU/zUn78PpP8AUTmpP34fSf6iCART/NSfvw+k/wBROak/fh9J/qIIBFP81J+/D6T/AFE5qT9+H0n+oggEU/zUn78PpP8AUTmpP34fSf6iCART/NSfvw+k/wBROak/fh9J/qIIBFP81J+/D6T/AFE5qT9+H0n+oggEU/zUn78PpP8AUTmpP34fSf6iC5oiLJiIiICIiAiIgIiICIiAiIgIiICIiAiIgIiICIiAiIgIiICIiAiIgIiICIiAiIgIiICIiAiIgIiICIiAiIgIiICIiAiIgIiICIiAiIgIobHMd8VeI91nuwPvny8S4WtlPd/SsDncPg5+k+wouFoRVfncPg5+k+wnO4fBz9J9hDC0IqvzuHwc/SfYTncPg5+k+whhaEVX53D4OfpPsJzuHwc/SfYQwtCKr87h8HP0n2E53D4OfpPsIYWhFV+dw+Dn6T7Cc7h8HP0n2EMLQiq/O4fBz9J9hOdw+Dn6T7CGFoRVfncPg5+k+wnO4fBz9J9hDC0IqvzuHwc/SfYTncPg5+k+whhaEVX53D4OfpPsJzuHwc/SfYQwtCKr87h8HP0n2E53D4OfpPsIYWhFV+dw+Dn6T7Cc7h8HP0n2EMLQiq/O4fBz9J9hOdw+Dn6T7CGFoRVfncPg5+k+wnO4fBz9J9hDC0IqvzuHwc/SfYTncPg5+k+whhaEVX53D4OfpPsJzuHwc/SfYQwtCKr87h8HP0n2E53D4OfpPsIYWhFXKPagSPZHuCM72svvL2zEC9smvFWNAREVQREQEREBERAREQEREBERAREQEREBERAREQEREFM259/b+Kb+/KoBT+3Pv7fxTf35VALFkIiICK6VXJTj8VJ905MGr20AgbVmrMR3IpntD2zlw/3eRwdfsKpaAimtj9lMQxiY0uF0VRXVDY3Tuhp2GR7YWOY10jgODA6Rgv2vHavPavZutwqc0eJUs1HVNa17oJ25JAyQXY4jsIQRKIiAiIgIrzyKcl9dtbWyYdh01HBPFTPrXOrXzRxGKOWnhc1pghkcZM1Sw2LQLB2vAGsbUYPJh1XU4fM6N81JUz0croi50TpaaV8Ujoy9rXGMuYSCWg2IuBwQRqIiAi2ByJck9ftdUzUeGzUUEtPB4zI6ufPGwxmRkdmGCCUl+Z40IAtfVUzHsNfR1E9HKWOkp5paaR0ZcY3Pge6N5YXNBLCWm1wDa2gQYSK67M8k+0GJ08ddQYNX1dJLn3VRDEXxybt74pMpvraSN7T5WlSX/gTtX/6dxP6E/wA0GuEWx/8AwJ2r/wDTuJ/Qn+aoeMYdNRzS0tVE+CogkdDPDIMr4pYyWvY8dTg4EfIgxEREBERAREQEREBERAREQZeD+/w/jY/32rY61xg/v8P42P8AfatjqwkiIiqCIiAi/Y2FxDWgucTYAC5JPAADiVb8E5PqycB72iNl+k0uYJcn4TgHEN0Hlv5Fha9a95wyisz2U9FsvENh6FhayOpLix2abpNLnMtcNabho4gE6/OvMYFTNIiYynvYOdvHPEuugzNadG6g2uPnK8Lbuker1jb2lrhFtNmwtPMLhjDduu4llzBw6w2Xo28/b5LqnbSbMGma6WB5mhY7JK12UTQOJsN61pOl+sdoTS3enqTiJ5L7e9YzKuoiLaeAiIgIiICIiAiIgIiICIiCmbc+/t/FN/flUAp/bn39v4pv78qgFiyEREH9VNgH0tTgmE4PVtztxDZ+Jjo3Wyy07KKhiqYteLiyrGnYHnqX8xdudnZcIr6vDKi5lo6mWlc4tLBJuXua2VrTqGPaGvHG4eOK7R5V9sjgFDsHipNooGUwqbBzr0c+G0kNXZrdXO3EkhA16Qb2LXnh88n8n3bocRoYjKcaZHShseu9xGnMUMYzXygyQy0jW3IvunntsF1/o/8AZ6PDMNqMeqmlsmJ1sGFUF8t3wxyBjnRdeV1RJLmB6sPvbTXT3h7f60z/APCUf/JW9drq2LCMc2M2KpHAxYe6OtqyAAJKgw1EEEht7mVxNdK4W18aadFo/wAOqndNtbLFGLvkp6GNg4Xe+MNaNeGpCDXHJbySY5tKXnCKB88Mbt3NVSOjgpYn2BLDLM4NfIGuaSxmZwD2m1iFadufBo2qwiF1XLhzaunjaXzPoJo6p0TRa7nQi0zmgEkljHABriSBqt8eGJj02x2C4PszgEsmHwysmE9TSvMFS+KiFPnbniAc11RPVPlke0tLjGQbte8HU3ge8quKUmP0dBPX1VTQV8ppJ6apmlnYJJWu3E0IlcRFKJt3dzfdNLgeogOfVs7kr5B9odpIfG8OoQ2iJc1lZVyMpoJXRuyvEOf2ycBwc0uY0tBje0kEWV88IjkvgZtxDhNM3c0uMVFDUZIQG+Lsr5tzWOjB0AEkVTKABYBwAFgrr4ee3VXhc+H7M4TNLhuHwUEdTJFRPfTCRrnzU9NTO3VneLwx0pIZfKTMCQSxpAZ/gbcleM7M7S1DMXonQMlweqEFQxzJ6aYtrcKu1ksRLQ+2uR2V1tbWXL/LT9/sY/K+JfxlQulf6PvlExetxKqwetxCorKFuHyV0TKt76iSCeKooYQIZZSXshLKh9475bgEAG99O02yseN7cz4XP7xUbQ1wqAC5pfTRVlTLURtc0gsc6KKRocOBcD1IMPky8H3aTaGEVlFQNion3MVVWyMpoprW1ha68srNT02sLOiRmuLKvcqXJdjGzMrIsYonU4lzeLzscyamnye63csRLc4uCWOs4BwJAuF2N4VHJ5tfjVXT02z5FLglLTMZHDBWsoGSVBJzufFG9uZkcbYY2Bws3K/LbMb+e1mxOLybAV1DtUBLiWGiWto6l0zKyYxUeSeGUzanebt9VTEk5t2TrrdBrL+jb+++I/k0fxVOueOU777Yl+Ua3+JmXQ/9G3998R/Jo/iqdc8cp332xL8o1v8AEzILLsby57TYPSRYbhuLPpaKDebmBtPQyBm+lkmk6U1O57rySyO1J91bhYLr3wPOUfF8dwfFqvFa59XUU0jmU0hipojE0Uu8ADYImtd09ekCv59rtnwAPvBjn45/8Eg0L7JjbL4+l/NcN+qqFx/k+2jxChm2xqqTxjD6h76upxJk+HkvklqDDLI6mgl3rP8ASCQQIxlsSQALrXS7C8AvHYcVw/F9ja8l8M8MtTAwlxPi1WwUteyMn3vI51NI0N/CmkdoQSg49Vx2z5McZwakpcSxOh8UpK4MdRvfPRulmEkQmaTTxzOnitGWk52NylzQ6xICsnJLyUz1+1MezlXGbUtbK3E7B2TxXD3uNSQdC1kojEbX9tRGdbq1+HZtyMVx40EEgdR4RH4ixrC0x+OOIfXubbVrg8RQOHUaPz3CkYlyE7T076OKTB5TJiJIoGRT0VQ6bKxsj3O8XnduI2se1xfLlaAdSFZNovBZ2toqc1Zw6KpDWl8tPR1EVRVRtDS51ogQZ3C1ssOdxJFgV0p4WXKVX7OYJhTsKMUFZWRCm8fLGSVFLTtgppJmUwkaWtdK5sQLjewj0GbK5mj/AAQeWHGxtDSUFditdiFFiDn008VfUT1mSTdSvgmgM73GGXetYCRo5rnAg2aWhzcto8lvIJtHtHCKugoBHROzBlZWSMpoJS0gHcB/tk7b5hnYwsux4zXFlsfl85NqeflAhwyNoZTYtUUVXURsuzKypP8A9RLC0aSPMFTJfvS9S3P4U3J5tbi81JQbNBlJgVJSxsbDBVsoA+oDnNyuYx7c0EUMdO1jSLNvJbjoHHHKryUY1sw9jMXojDHKSIKmN7J6WYt4tZLESGvA1yPyusL2tqq7sjs3W4vUx0GG0stZVym0cMQBcQNXOcSQ2ONo1L3ENA1JC7krth8ZdsHiuHbW2nraCOqraCczNrJhT0MUdXTufPmc4yCRtVDrY7ohvBag/o8NoaCjxmqpqt0cVXW0jYKCaTK0PeyZr5aNjibiSX2t4bwd4tbjlBCvTeCRtc2LeikonvtfxdtbTiYG3ubvIhzdXu7eVaKrKd8L3xSDLJG50b23ByvYS1wuDY2IPBdG8tXJrt3s/UVOJtxPF8QpM8kxxTD6yqErIi5zs1VBFI2Wlys1dlaYmcA6wXONTM6RzpHuLnvcXvcdS5ziS5x8pJJ+VB5oiIMvB/f4fxsf77Vsda4wf3+H8bH++1bHVhJERFUERfrW5iGjiSAPOdFBfNi6CKjidW1DWulI9oB4sabNzD+sS8C/81+Vm3LbucB0m6tzXsDlFyzMLAE3v5vMpDGqCSSjAaLse1rmlrXXIaCLHXTQix6/0KhtwqQExyNJadcpb0nD+r18Osdq52pMWnMuhp1mI4Wen2tcGGSd8IcALMYyNuV1yAC4gkixvxOt+NgvmGojnZni8XZK4AeMTODGhzeB1sZSBbjoBbgqbiGz75LtaHMc4Zt3axvoOkc3YSeHWsvANjJXOb7YdLtfexAGa1mjsI0+Qryv0YznDOtb57JhmNtoC4y1b6osA9rpy+MPcLm29cAMlr+4vc34cFN4HtKyva+SdpErScrbNbvKQ2a+KS7ss4sDcOsQQbeTIrtkskcLXNjbC17N68X1ZmuRc6u6RDidf0KFxPBwyYPhjYx7GhslgGGxZK3I8j3OaSVotfQCx4LyiaWjjv6srVtWee3oxNs8GihLZ6YPEEnFpuWscRcGN3XE6zrX4EEeQVtXTD4fapKeVrnQ2LTnN905zc7ZGnzlrh/Z1uqbLGWktcLOaS0jyg2K6W11JtXE8zDR16YnMeb5REW08BERAREQEREBERAREQUzbn39v4pv78qgFP7c+/t/FN/flUAsWQiIg628Mn/VbZL/AISD/wCOolujwbsRotqdnMHrMRyy1GA1IzOe7SOswyCWGnmlc7V/+i1EE5J/Dsdcq4P2y5ScXxilpMPxGt8Yo8PY2Ohh3FJDuGMjZE0Z4IWyS2jjYLvLuF+Oqqsc72gta97Wu901riA64sbgGx0Qb55Otrzj3KFTYsb5KrFS6AEWc2liifDRtcO+KeKEHyg8F9+HXO6LayWWM5ZGU9DIx2hyvZGHNdrobEBaT2Ux+qwqqhxCgl3FZTv3tPNkil3b7EZskzXRu0J0cCFl7e7Y4hj1U7EMVqfGqx7GRum3UEF2RDLG3JTRsjFh1ht0HXnhfYDNtngmD7TYBDJXxxNlM9NTN39SyKtEG8OSMlzn089K6KRjA4gyE+5Y4jVXgfckuLVOP0lfU4dV0mH4fIaueoqoZadrpY2P8Xhg3rRvpTNuyQ33LQ4m3RB1hyYcq+ObNl33IxCSmikcHzUzmxz0srxlBc6GdrmNkLWtaXsyus0C+gVn258JHarF4HUk+J+L00jck0dDFFSOlabXa+WMb4MIuC0PDXBxBBBsguXLlypUsm3lNisUjX0GE1VDSPnjvIJYKObPXvjDR0rPmqmNLbh27a4XzK9+HjyXYpitbR47hFHPilM+iZRzMoI3VUsTopZpoZwyHM+WGVlVYOY0hu4JcRmbfjRbY5OvCG2mwKnbQ0eINko4xlggrIoqlsDepsL3jeMjHUzNlHUAg6C8BTkixTBqybGMWi+55qaGWko8PqLNr5o3T0U01VJDfNTxMMUTMrwH3m1DRlz6C51NwTbioxWQEw020Nc+ewLneLPramOpLAPdPEMkhA7QFgf+Pu1H3QdjAxiTx91O+iEhgo5IYqSSSGV8MNPLA6CEF8EJLmsDjuxcnW+vcaxKatnmrKl+8qamaSpqJMrGbyed7pJX5YwGNu9zjZoAF9AEHZXhkbLY/UzU+0ezFXidZhdVSxb6PCKipkEb2i8NXHDTSXkp5YHx9NjSAYXFxGZt+cZsM2yqKaokmZtK6higklrZKp2Ix0gp2D20SuqXCN/RPuNSRfQr45MeW3aHZyMU+GYk9lIC53ic7IqmmBdmLt22dpMF3OLjuiy51N9VLbeeEZtRjMEtHVYixlHPGYZ6ampqWFksbr52ufuzNZwNiA+1hw4oNnf0bf33xH8mj+Kp1zxynffbEvyjW/xMyyOTblDxbZyaSpwas8Tnmj3Er9zS1GeLM1+XLVRPa3pNabgA6KvYpXSVM0tTO7PNNI+eZ9mtzyyuL5HZWANbdzibAAC+iDGXbPgAfeDHPxz/AOCXEyu3J/yr45gFPPR4TX+KU1U4uqY/F6KfeOLN2TmqYHvZ0NOiQgpKvPINtsdnsbocVLi2GKYR1gGY5qKoBiqui33wiKRz2jXpRsPEBUZSOzODT4jVU9BSsz1NVNHTQN1AMsz2sZmIHRbd1yeoAlB/SfbfCsP2Wkx3btojfU1GG08bGu0a6phBjjYyQE2jqpBhbCGjjBm1Ll/M7EKySolkqJ3ukmlkfNNI7V0ksri6R7j1uLnE/Kut/Du2iGGYfg+xsFRLMaemgqa2V5dvJoqSI0lDviOi8yPZUyuaeBjiNvclcgoO8/DK2CxTGsCwiXCqOSuNE0S1MMHTqRFLTQtbJFCOnOA5li1l3dIHKRmI0x4GfJVi020FLiNTh9XSUOHmSomnq4Zadr5d1KyCCHesG9l3r2OIHuWscTYloO3/AAxNscRwLD9na/CayWiqmtkj3kWVzXxupaUuimjka6OeIlrXZJGuF2NNrgEc6bb+EntVi9O6inxIQU8jTHO2ihipXzsNrtfLGN61pAILWOaHBzg4EGyCx8s/KvCdumY5TuFRRYZV0lOx0IBM9NRFra3dEnK/M91WGOvYgsPBbZ8MXZrHa91JtLstWYlWYZPSRMngwieqJFnPfDXMhpn3likila0lrbs3F3aO04jWw+THlo2g2cZucLxJ8dKSXGjnZHU0uY5i4xxztduCXOuTEWFxAvdB7uwzbOpp6h8jNpnUUVPNLWvqXYiykbSxxudUCZ1Q4Rubuw67CSXC9gVW9i9gsWxqOplwrD569tG2N9U2mySTMbOZBFkgDt7OTupNI2uIy62uFeNuPCR2pxeCWjqcRjipJ4nwVFPTU1NE2aKUFsjHSGMyhrmuIIDwCCqdybcpGMbOSSTYNXPonzBjZwI4JmTNiLjGHsqI3sNs77G1xmKDqTwMdr9s3Yk3CsUp8TqcHbFKZ6jFYZ2yYe5jHOg3dTUtEkpfLu4hA5zrNcXNDQxy5z8JiioqfaTFocNEbaRtW7KyK27jnLGOrI2AaMayqM7cg0blygAABWbaXwo9ra6B1McSZSse0skkooIaedzXCxyzAGSF39aIscO1aVJQfiIiDLwf3+H8bH++1bHWuMH9/h/Gx/vtWx1YSRERVBfrTY3HEaj5F+Ig3xyWQHFo4baxxvPjDXcDu2gm44FrnFgt2O+a1YvscBnkip4nPtmDBljzcLtL2tN/m6gOCp/gnVQMlZTED3EUzXa34va8dluixb0rahjej18PlP8A0XI3k9M4h2tjHVXLn6PZOoD5JZWNbM8m7SL7pl9A3q11PXoG9hU/sxsgW6yC46/N2eX/AKrY1djFNCbvMYAHSc+wAt23UezbPDnnI2aNznGwyatHlJvYBcXVveXXrSsY4YeP4ZEYsugyDQf99NeC0xtzCWOMsLy1zxu3gXAc0OJ4douB/fat81ETJQTG8OYeD2nMAfkWpuUGnFPI2OWM5nEvAjGdsrLHPYNBLXZM3V1Ada9djaerpae+px1Khg9SQA2UWzsEeozgvYTka7ycezrCre1UYbUyWFgcjgP7UbCf03Vwwpkk87IaSCWpyuBlAbfdxkN6T3ONoTYNdZ5bc3sqvt5A6KtmiewsdHkjLXCx6MbLHzWtbyWXd22IvMfBxdeJ6YnHGe6DREW+1BERAREQEREBERAREQUzbn39v4pv78qgFP7c+/t/FN/flUAsWQiIgIiICIiAiIgIr3yQVmzML5ztTSYtVRFkYoxhToWuZIC/embezx3aW5LWvwK6H5I+T/k92nir56DDtoYm4ZCyoqRVzxRukZI2oc0QbmpkDn2ppPdFo1brxsHHqLeO0uL8m7qWpbh+FbUx17qeZtDJUPpDTsrDG8Uz5w2ucTCJchdYE2B0PBaOQERXjke5MMQ2qqJqPDX0rJYIDVymrkfEzdNfHGcpjjeS7NI3SyCjoiICIiAs/Z7GanD52VlDUS0tVEXGKohcWSxl7XMcWOGrSWPcP7xUhydtw44hSjGnSNwrejx50OfeiCxuWbsF9724C69uU9uFDEqkYC6V2EZ2eJOn3m9LN1HvM+9Af77vOI4WQRu02P1mJzurMQqp6yqeGtfPUPdLK5sbQ1jS5xvYNAFlGIvaiaDIwEXBe0EHgQXDQoJvanbfFcVjigxLEqythp//AC8dTK+VkN2tad2HHo9FrR8iry6C8PPZ2hwzHqenw2hpKCB2FQTOho4YqaJ0rqrEGukLIWhpeWxsF7XsxvYufUBERAREQEREBERBl4P7/D+Nj/fatjrXGD+/w/jY/wB9q2OrCSIiKoIiINi8l9QcPllYKjJLUwlntbHuLGxtE2jiACXMuPlGqkanaWupDcTVEgdHv2GUPmiAuSL9cd2tOlxxGnEKN5HaJtfiNPa5fBTyunhIA3scUbomPjeXZcw38d2ut7k2JutsVWCCtlFPuS3Od3eQg5GPuJXNYzQvEeexJ0Nj1LnbqYi/MZdjZUtanuzMYa929dWiWJlVBKzewxTwxOdHeSR+czR2bcXZ0LtuTqLHVR0NJVysidTysjJLt9E4agkjKxjY+lwFtSLarfvKHgbarI9ozSxHNT2yksfrbR3UdPmB0IBFSwCrsdMrJW+7LYo2yNcPdD23MAb36iuV7THaKxEurXZzaMzMz81KwyjrqeV0dS2YRyQxmERzlscMkD5d44Bzi9zpGyxi1ne9akaK3HZVhp5JLOLszpIor5Hlrs996Wnpuyvd0eBGlutTrSJnl7nXeO/robG3YG6DQdgWbG7MNNLGxH+HmssPar8Ujj1x5vO2zpEza3Mz/DX2FU0NNJHHUNkibMC8bprWtay7Q1r72IZdzrdlitZ8rzA3EHMvd7Io45CTc5m5hHmPW7c7hdB4i+lijkrqtuVtM0kS9xsfSsxt7Pe5+gBB6VrLljGsQfVzy1Mnu5pHykXvlzuJDAesNFm+ZoW54XW19S2r5Rx+fs1vE9StNCujHfOf2z9c/wAMRERd18+IiICIiAiIgIiICIiCmbc+/t/FN/flUAp/bn39v4pv78qgFiyEREBERAREQEREBdW+AP8A+S2p/wCAp/8AlYsuUl1d4A//AJLan/gKb/lYsg5RXSnKDTsHJls/II2CQ4xOHSBrQ8jfbSaF1rkaDTyBc1rrrCdjazark5wvD8DbDWV+H4pPNVUu+hhkaN/i5MYdM5sbZd3iNNLle5t2E2ubAhWvBHp2P2f23c9jHOZgwLHOa1xYfEsf1aSLtOg4dgVs/o7Nrqh0ldgu7pvFYaabEmSbs+NGeSSkiLHy5rGDK2+TLx61PckvJkdmNmtq6atq4ZMaqMElqMQw+B7ZW4bT+I4v4hHK9os6okvVOdYkWYy1xZz9bf0eGJQxY7VUssjY5KvDJoqYOIBlljmppHRRgm75N02WSw/BheepBR8d23xLlAxHCMKrYsPpSavxWKSgpzBlZiElKyeWUOlcJN2yAOAFuDuN1t/lw5YHbC1o2Y2SoMPooKKGA1s8tOJqiqqZ4o5hvXkje+0yQ5nuu4lxFwGgLTA2WxfYLGcNxDGaF8McNcJojG+CVtbBQyweN+LFr+uKZti/L763hYgba8KDkZxPaLFBtLszEzGsNxWCnl3tNNTt3M0EMVNlLZnsO7cyBjr6lrt612UgAhictWGUW1WyUO3MVDTYdjFPOKXGG0bd3T1YM7abeFvEy55aWRrnEuDZXsc5+VjhauTXF8Nwrk9pcVxHDYsSNPXTSU1LI1m7nrfG6llMKlxabwMLjIQb33TRrwUBytNZshsPDsjWywux3Ep21tXRwyNlNHAKmOpzyll2gDxami42e/fFheIyVi4l/srpvym7+OqkEBsLypV2121uAz4pBQxmnnFNHHSRSRxGJxlkyvbNLJexNhrwA86rvhNVMVFtpXTmmhnhp62jndRva0QTxxQUb308jcpbu3hpadDo46FQ3gsf60YP/wAaz91621jdLQzcqTosUELqN1cy7ai25fUDDGGhY8O6Ls1WKZoadHFwGt0Fj5I+WXbHEa+gjGzLGbOVVTT00rKPCKxlBDRVEjI3VDagBzA2ON+cuJyEMNwBw0h4UWAUuGbWYhR0MDKalZPSSxwRANijdVUlHUStjaNI497PIQxtg0EAAAALorbLZzbZ21BxXEcS+5+ytFiENX4w7E2UWFDB6apZI2GSnjlDn1T4Ru3b2OzpCQXZMpWpfDh2SraXaaXFZoHNoMQfR+KVHRLJH01JSQTRGxu2RroXGxA0IKDM/pGf9Yqb8j038Zia5pXS39Iz/rFTfkem/jMTXNKAiIgIiICIiAiIgy8H9/h/Gx/vtWx1rjB/f4fxsf77VsdWEkREVQREQXHkXx1uH4rTzSECKTPSyk8A2oblYT2NEu6J8gK3zS4vLJWSNiABbG5hNj0XG3Dy2BH95cqFbz5NMVlxGHNT1G4rmMEFQ8ta/wBsDSIahzT7pkjWgO4HMx2o0XP3tJnFvLPLr+Ga8RFtP17fdLYtiWJB7t1MW2sCctyT1lubqUe9kkTTI9xMriXuN7OLnHU2PV5D2KZrYnvjAqaetfVMG7mAkZFBNKIwTNEWkuEBedL62vcdtPxbBnVQySQQQRAnOI5XzSuBy9EvytDODuBJ6XVZcjW04rPpDu0taY4z9IWHDsSe46nW17jh5fMf5hWvAKzOOlxt89uB/SqNh8QaMo0A0+SwAGvVYKw0FSI7X0WvXmXnrW45Uzl/qzFHFTjNaeWWV3SIbaIxlt29ZzPv5LLTq274QVOXR0dSB0c08Tj2F4hewH0H/MtRL6PYxH6MTHx+r5re5/WnPw+giItxqCIiAiIgIiICIiAiIgpm3Pv7fxTf35VAKf259/b+Kb+/KoBYshERAREQEREBERAWZh+KVFMHinqJ4BIMsohkkiEjRcBsgY4Zx0naHvHtWGiApPANoa7Dy51BXVlC54DZHUc81M6RovZrzC9pcBc6HtKjEQZ0eMVTd9lqqlvjN/Gssso8ZzZ83jFne3X3kl81753dpWLTzPjc2SN7o5GOD2PYS17HtILXsc3VrgQCCOFl5oglMf2irsQLDX11ZXGMERGsqJ6kxh1swjMz3ZAcrb27o7F94DtRiOHtcygxGvomPOZ7aSpqKZrzYC7xC9ocbAC57FEIg9qyqkme6WaR8srzmfJK50kj3Hi57nElx8pXqcTqDCKU1E5pgcwp95JuA65OYR3yB1yTe3WViIg9aSpkhe2WKR8UjTmZJG5zHsd2tc0gtPlC/a2qkneZZpJJpXavklc6SRxAABc55JcbADXsXiiCWxnabEK2NkNZiFdVwxWMUVTUzzxxEAgGNkry1mhI0A0K+MW2hrqtkcVXXVlVHAMtPHUTzTMgaAAGwtkeRELACzbcAoxEGVieIz1ThJUzzVEgAYHzyPleGgkhodISQ27nG3lKxURAREQEREBERAREQZeD+/w/jY/32rY61xg3v8P42P8AfatjqwkiIiqCIiApjY7aCXDKllVF0g3oyxXsJoTbPGew6Ag9TmtPUodfRYRqdOvXS/VoOJ17FJjMYllW0xOYdQYuwV0EVdTSAwTxtkbm0vnAIzDWzxwI6iCoGHDZG6yEAdgI4f4Kl8lu00zWw4MOm6aWQUhcQGseIpp5YSe57U8g96S3A3Uhj1fVRvLJI3RvBsQ42A+Y2PnXA32hMTh9Jtd310hN1crYzpx6uC+qWbO8EnQcP8/KqjT1EjyLkuceJOgVlwdjtL6dq58x0w9qz1zmWXypYbJV4RMadwFTTWrIbgEPMFzJC4HRwfHnbY9ZaufROHOcAMtibN7AdRbtsDZdAbe4sKXD6g5rF7DE3tzS9A28wJd/dK5uo43SOzNJDnSWYBexuQLfM5dnwm1uic9s8fdyPFK1jUjHfHP2SiL7qIixzmEG7TxsQHA+5c0ni0jUL4XWcsREVQREQEREBERAREQfLo2nUtB84B/avncs7jfRH8l6Iorz3LO430R/JNyzuN9EfyXoiDaPgtbGYdjeLyUWJ0jKqmbh1RUtjzzQ2mjqKBjH5qd7H6MmlFr26XDQW6f9jrsl8Ss/O8S+tLQHgRff+X8k1f8AF4Wu1VFap9jrsl8Ss/O8S+tJ7HXZL4lZ+d4l9aWw6LaCjnqZ8PhqoJK2lEbqulY9rp6dszWvhMzAbsDmuaRfiCvOq2moIquLDJK2mbiM8ZmgoTIzxqWFu8vKyK+cxe1S9K1va39hQUD2OuyXxKz87xL60nsddkviVn53iX1pbWRBqn2OuyXxKz87xL60nsddkviVn53iX1pbWRBqn2OuyXxKz87xL60nsddkviVn53iX1pbWRBqn2OuyXxKz87xL60nsddkviVn53iX1pbWRBqn2OuyXxKz87xL60nsddkviVn53iX1pXHANt6KuxCuweB0hrcMEBrWujc2NnjbN5DkedJLt424KSx3aGjoDC2tq4KU1MzKWlE72xmoqZNI4Isx6crupo1KDXnsddkviVn53iX1pPY67JfErPzvEvrS2LtHjtJhsDquvqoKOlYWh9RUyMhiaXuDWAueQAS5wAHaVm0k7JWNljcHRva2Rjhwcx4DmuF+oggoNW+x12S+JWfneJfWk9jrsl8Ss/O8S+tLayINU+x12S+JWfneJfWk9jrsl8Ss/O8S+tLaywNo8Whw+lqK+pLm09JBNVzua0vcIaaN8spa0aucGMdoOKDXHsddkviVn53iX1pPY67JfErPzvEvrSuOC7dYdVYYzHhUtgwuSPfipqv8AR2sizmPPLn97GYW17Qp3Da2KpijqaeRk0E0bJ4JoyHxywytD45I3DRzHNc0gjiCEGsfY67JfErPzvEvrSex12S+JWfneJfWltZEGqfY67JfErPzvEvrSex12S+JWfneJfWltZEHJHhY8lWB4FhtLU4VhzKWeXEWU0km+qp80DqSvlLMtRM9o6cMRuBfo8bE35s3LO430R/Jdj+Hb96KH8rR/wGKLjxVHnuWdxvoj+Sblncb6I/kvREHwImjUNb8wX2iKgiIiP1o7SAOsnQDylZdJFC46yF3aQMrL90E3LvmCgmEyuN9W8bDhx6N/kN1MSgRtA17ANCDcXPFFe1dWRxA5AGDgDYZ3HtBPSt51gUjnPyTHLZxe2NrXXDHM1dfr3pGo8mo/BtjVQ3rw0us0C73dxo46DUcDw7Co+irTlJia8NsbuOhcblzCG/g2IZY3va+isJLYOxFayDHMML3BrYnvkk7rd9BI0DThZsmv9ldA7YYZHP0nNBI6/wDPUuS8Kc5tdS2Ju3W5PCzQ0DjoNCt/Um0k0UeW28jI9ydcna1vW0eTq8i526jqtj4Ojs9SK159XjBTMa+zW31UtBx4DRVtm1Mcbi4wPJPAWAGvVcn/AAWBiO1k+V742MiHeOpubANBItckgcFyp2tp4dP2vTrGUDy44w97o6Nh6LelIerO8aD+6w//ALVRcGjtJc8GNLhp+HZrWEWOtnOafkWVjZmqniUvc4/hl1r5hdxeXONg02JueGXzLAwqQSEtbI10ri27Wkvs3ouLnOAytIc1oy3vx7Ne5oaMaWnFI8nB19WdW83nzXKGW04Y8Nkikb7lwu0tIbby8D/+K9qjZTOSYJWsudGTE2AJ4NkANx5x8qiqm4kheD7l27Nr8HaftN1aqCoIGR1z2acOPCwXq81PxXCKilPt0Tmg8HjpRnzPbosFbQZXtaCHWI4OaeBB4ggi1v8Aqq/i2EU0t3RAQO4AstkJ6g5hOnZ0beYq9XqYU9F+ytyuLCRmabG3mBBHkIIPyr8WSCIiqCIiAiIgIiICIiDePgRff+X8k1f8Xha7VXFXgRff+X8k1f8AF4Wu1Viycm4xyk0uzG1e11bM01FXJBgsGG4fGf8ASMQrH0VM2OGJou7dguaXvAOVvAOcWtdt7kI5Op8P3+OY25lTtPigEmIT6ObRQHKYsKpCCRHTxBsYdlJDnRN1cGMK1jzDodpNq9ssKxGPNDLTYK6OVtt9S1DKGDdVNO4joSsJPkcHOa4FrnA2PkJ2/rsLrnbEbVS3xSBoOC4m+4ZjOH9IQgucenVNDHAOvd27e13tkbnSBYdruVLEZ8Xl2b2Yw2mr66jhZPildiM0tNhtBvmsdBAdyx0lRO9r2mzOGoscsmTI5OuVCsmxWXZnaDD4cNxllOK6lfSTOqKDEqPMWulpnSNbJG5rmv6DgSd1Jwy2VE5PcXptm9sdo6bGaiKhGMGhxDC6qseyCmqYohUCSKOaUhm8D6rdhhIJMDrX0v8AgxWDaTb/AA+qweWKtosCwyoOIV9Od7S7+ujrIYqVk7BupH/6TG4ZXG+WcDWJ9gm8U5bsSdjeJ7M4XgQxDEKR1MKN2+MFNuJYWy1dZiUzxlp4YTJC0Nbd0hkDRrZT3ItynV+J4hiWAY5h9PQYvhYglk8SmdPSz09Uxr43sL+kwhskLtSbiYaNLSFAcif+uO2P9rBv4WZY/Jv/ALQdpfydhn8Nh6D6g5a8axDEsUwHBMBhq67D6x9P4zPO+HDqejjL2iprpCMxnkeGtZBHcuDZnXtGb3/a7F9pm+KwYThGGTTSUwmrqyvrHwUVJVDIHUscUDH1E9yXkPGgDNTci9G8Gb787YflwfsqVF8rG2z5tqW7OYlj02zGBxYa3EPGYKiHDZsTq3ysDYTXzC9NDl3wtGWkmnlF7ubkC8ci3KVXYpW4ngmM0FPQ4vhLoN8aOV89JUw1bHPilhMgzs6IY6ziTaVvAggRI5UcbxivrqPZXC8OqKLC5zRVmI4tUVFPFU1sdxNS0TaeNziWEEbx12m4Ogc0uofg0YphrdrsfjosRlq6epp6D7nVNdUz1NTiIpYxHVvhnrDva1jJmytDwXDLGMpLQCngr7a4bs4zHcEx7EKfDMQp8crKtza+RtNv4JoqaNksBlsJ83izngMuS2WNwBDgUEx4NmI1NXtVtVPW0L8Nq3MwcVFE+WOoMErKZ7HBs0XQmiOTM14tdr2mwvZZ3hk1UcDtmp55GQwxbTUEs0srgyOKKMudJJI52jGNaCSToACo7wZ9o4MX2p2qxGkbMKWoZhD6d1RE+CSWBtPIyKoEclnthlawSsLgCWSsJAvYS3hfNBl2XDgHA7UYcC1wBBBcbgg6EeRBibKUzuULEo8cqmvGyOFzvGB0MgLW4ziEJLJMVrI3aup43AtjY4X4g2vMx+yeWzlJj2bpYZBSyV9fW1MdBheHROEb6ysmNmMLyDu4xpd1jq5gt0lp/HaWfkzxN2JUcUs2xGKTj7pUkQL/ALhV0haxtVCwatp39FoyixDRGek2DNn+FVVRsn2W2tjc2qwbDsREtXUQB08bKPEnULoq4GIOvE0UuhA1fJE0G7hcJnaLlU2j2dbDX7UYLhrcGlmjgqarB6qoqKjCt9pG+rimitOzN0SYja/AklrXT/L5ytu2Y+5ckdH90IcRrG0sghL3ziI7t2ajZGD4xO5ryGsuA4louLqkeFvt9hWKYBJg2FV9JiuJ4tNQ09BSYdPDWTSObWU85eWwOcY47U72ZnWGZwHavHwiaB1JNsLSvcHPgx3C6d7hwc6F1CxzhfqJaT8qDYFByg4rh2HYhje1mG0mE0dNFFUUlNSVPjtW7eGRppah5yxGqdI6ljblytLptSLaUHbLbXa2u2er8Qq9ncPgwmtwmtPi8NdI/GKKkqaScMrJ2SxtgmY2N7ZHRtLJMt+iHAtVs8NPCZ6vZXEW07XSOi8Xq5GN4mnpqiGSod/ZZG18h8kRUDt3y2bP1my1QylxCGesrsHqaWDDKc76viqJqGVj456eO76eOHpufI+zA2JzgSLXDy2KxiLD+TmCsnoqfEYYcN3klDVgOp6hvjJGSUFpBbrfgdQFY9s+VE4FsjRbRUmHUwDqLCnxYc1xipqeOtip8sERY3oxxNkDWgAaMHBUQf7Lf/tP/wDUsbl6/wBmeHfk7Z7/AJVEgsO2PLhtDQ0nONuzMTNmGyQjPV1W6xeekqHsjirm07btponvkYGxvDn9NpIynMNh8sXKnDgFBT1kVNJiFXiEsNLhNBGd3JWVNUAYml1ju2AEXNjq5jfwgVW/DR/1OxP+zh3/AMnhypnhJUslLBsjtIYZKigwWpppsSZGwymKnqG4e4VRaDYbs0hDXHg+aPUXQTHKRyt7WbM4e7EsY2ewmaJxja2XD66ZzKSSR7A2CujmjzkuDngSwlzQ5gB92COgYH5mtd2gH5xdck+FzyyYPjmz89Dgks2Jkvo6mqqIYJ46Wgh38e68akqI2ZZpZLMbEAXaPJDcuvWtIOg3+y39gQaA8O370UP5Wj/gMUXHi7D8O370UP5Wj/gMUXHiqCIiqCIiAvGtlyMc7sabefqXsozaB5yBg/COvmCBhLi11hfjGO0XDG6H5VJYjUEvY0aNGawHFpA6TSONrm4WHhzTdr9bF44HUgjXhx49a/ZZc07rfgtA1sNT/wBAsu0DyqrBr+svZLfrB6D2jjpYXX5RU9o8oFurhxufL519VA0cRpoGAA8S97GkaeRxWVTjgOFzewJP6RqfnWI9sBjD68AWtGwcO3pLbNLDnaWh5b2cLEf57Fq/YKAvq5XdhDfJoB/ity4TS/JwvfguTr3/AOst3Sj3UM7CpZD0SwNvxyOv+l9lU9vW5HNpg973N6chBAAc73DcrQBoLngeI7FtXEXx00Lpjwa0m5sLho7fmHyrSVVUGaR0shs57i4nsvft/B4Beu2jqnqnyYa04jCLmYWDLI1rozdpuLtfcWLJLa2tcXHC6k6SBl2iMjJla8ZQ1pDTfoPA4O049dgRxWPVzgDtGgLBo55Nwxrf7Zv0uprXnqAOTh8O7BuQ6RxzSEcC4gXA7rABlaOoNAW7LVe2QA6gkh1xe+XQi1rFScFRpd3AeXQn/IsoeKTMRex1tw+XT/PasXEa8ueIGHQavtwvr1W4WVwqaqcQvw0HC4v5B0j5LrBrsUDG3ubnpDtDOrXtJ7TwA7So6smLnshaQAbZjaxsLl2o68rSovE6wvfbRw4AN4XHVrropgYlfWOLxISRcjyfP5dApimlD2hw8vzg2KgsQbpfr42/yFmbOzXa5vYbjzH/ALLKBKoiLJBERAREQEREBERBvHwIvv8Ay/kmr/i8LXaq4O8Fna2gwTF5K3E6jxWmdh1RTNk3c815pKigexmWnje/VkMpva3R46i/T/shNlfjf9TxT6qoyhsOlwWkinlrYqSmirKgMbVVccMTKmpbC0NibUTNaJJgxoDWhxNgAAvHHNmsPrnwzV2H0VZLTOL6SWqp4KiSmeSxxfTvmYXQuLoozdtjeNvYFQvZCbK/G/6nin1VPZCbK/G/6nin1VQXzafZnD8UY2HEqCjxCJjs7I62CGpYx9rZ2CZpDH20uLFeuz2BUeHRCmw+jpaGnBLhBSQxU0Qc73TskLQ3Mes2uVr72Qmyvxv+p4p9VT2Qmyvxv+p4p9VQbDosFpIJpquCkpoaqpyeN1MUMUdRVboFsXjErGh8+RpIGcmwOiU2CUkdRJXR0lLHWztbHUVjIYm1U8cYaI2TTNbvJWNDWgBxIGUW4LXnshNlfjf9TxT6qnshNlfjf9TxT6qg2HhmC0lK+aWmpKanlqX76rlghihkqptfbah0bQ6aTU9J9zqVh7UbIYZiu7OJ4Zh+IGK+5NbTU9UYs+XOI9+x2QOytuBocovwVI9kJsr8b/qeKfVU9kJsr8b/AKnin1VBeZdlMNdUQ1zsOoXVtNGIKWrNNAammhaHhsUEuTPFGBJIA1pAG8fb3Rv4Y/sRhGITMqq/CcNramMBsdRVUlNUTMa0kta2SWMuDQSSBfQm6pvshNlfjf8AU8U+qp7ITZX43/U8U+qoNh0WCUkE01XBSUsNVU5BVVMUMUdRUiFuWEVErGh8wY3RuYmw0CYvgtJWGI1dJTVRp5W1NMamGKc09RH73UQGVp3Uzep7bEdq157ITZX43/U8U+qp7ITZX43/AFPFPqqDZWJ0MNVE+nqYYqinlaY5oJ2Mlhljdo5kkcgLXsI4gghY2F4FR0tOKGlo6WmogHtFHBBDDShspc6VohjaIw17nvJFtS51+K197ITZX43/AFPFPqqeyE2V+N/1PFPqqC37ObBYNhspqMPwbC6GcgtM1JR0tPLkd7pgfDGHBhsOiDbRSeLYHR1joZKujpap9NK2opH1EMU76WoYQWT07pWkwzAtaQ9liLDVa99kJsr8b/qeKfVU9kJsr8b/AKnin1VBtIqs4fye4JTvllgwTCYZKiOSGpfFQ0jHTwzi08MxbEDJFIPdNOjusFVP2Qmyvxv+p4p9VT2Qmyvxv+p4p9VQX7m7Q+K/c3xCj+52TdeIeLweJbq+bd+L5N1u82uXLa6Yhs3QVNM3D6igop6BjY2MopqeCWkYyCwhY2B7DG1rA1uUAWblFrWVB9kJsr8b/qeKfVU9kJsr8b/qeKfVUGxcawilroXUlbS09ZSyZd5TVUUdRTybtzXszxStLH5XsY4XGha09SheUCbEqWkacDw6jr52PYx1DUTCjifRhjw9kMmUsjkuIwA4ZbXVU9kJsr8b/qeKfVU9kJsr8b/qeKfVUFB2p2S2k2uZT4RX7PUOyeAtq4qzFAyvpcQqsQZCcwp6YYexrIcx4ufY3axwd0Sx/SC1b7ITZX43/U8U+qp7ITZX43/U8U+qoKd4dv3oofytH/AYouPF0l4WPKfg2O4bS02FV3jU8WIsqZI9xWQZYG0lfEX5qiFjT05ohYG/S4WBtzaqgiIqgiIgKHxF2Z5cNcnRcO0cTbygqXJUHTPJc4t1N3E34PBOrT/PqVgScZywxH+t7rXUZjxPHgOpYUEvt0uutx1A9v8An5FlSR56du7/AAXOLGuNnE5m+1tvoXX0GovbS9wsOnsJZj2Bululfr0PA3CyuQz3tuw6ZhmZ8hzB3Dr0YeKyaVo4gm/DhbiewXI4LwYQWWN3Xc3iNQMk+nDTXX5F6F4DXOF7NBcctgOiDpxXmLFyV012yzEOPtjzpqXAE2t5ToAFuCigIHA2tck21vppr2kaeZaq5O6JzaYkNIzXkeSD0gwbuJo4EkEGTzgdq2phsDnvikL3We+S8YLmt3bHSlmnB1s0XHs61zJ062mbfFuRaYiIVnlixHdxRUbT05PbZAOIijPRB/tP1/8AaPatWzjS2tu3gfPp/n51J7a414/WTVLTdhdu4DxbuIehG7j7l1nP/wDcKgJZHe4aem45IzYGztC5+uuVrTmsRbMY1u6VOmuGte2ZyysNYC4vcehGXBt9Q6VwAkfpp0WtbH5w/tUk4eUa/Na/Vrw4alYUEbWBrGE2AsOu3G1+03usozho1NiPwbW8pGvk/avRi+ZHCIF56r8dNbG/A+RQeBOL3SSO67gG44fKV+47iBeC0HTXtHbx+f8AQvnA3lsTh0NG3JsL8NeKyhJeRmAMkh4j2ttzY3cLvvbjYED5V54dRE+2O0HVoLW43Av2LGpqxjI2ucA4kuf0h1vJygfJYfIveSokeM8hyNIOWIaEggWv2cFJGPXuBuAb9v8AkcF8bOyWkt3gWnzjUH9H6V+ubfgBrZY+EHLKB5f8bH9qirUiIs0EREBERAREQEREBERAREQEREBERAREQEREBERAREQEREBERAREQEREBERAREQEREBERBh4xKWROI4mzR8p/ksGilbIRdjt4BxiLQXDrOV+jj5iF9bRye5b1XzH/BY1J7WM72gWByg3PHr08l1YGZWFpjMQ1GYta6QiOzyGuDTYltybt42uRwXvs/Qy1TQ3dTSyAuYXsje+YBvFrwATKBYiztR2hbb8EfYiKtnlxbEqaklw1gkipBUneE10JgL5BTvBY9jY5H9Nx0e1tgdSOpqXE6KnIYyOEEaBzWMYQB1NDAABpwt1LR3W/jTnEVz8cx39PVu6GxvqV6o/I9XDeH7K4jKGRjDa18wu7IaWobeNsMri6z2A2AOvEX0vwvDVIaGPtpq1paP67gLeQr+gtVtHSM6T4g6MkCwvceUarXPL5s7Q4rQuFBRMdXjLLTua2zy9jg4sMjgGtBaHdDg45eHFa+n4lW2Yt7vzel/D71iJiJn5NH7KTWjZbSPM6S2uaRsbgbi5s1uWKRvYdToOMztXjrqShnfHmLreLxOzZ3NmqBJG94dwORwJ0sLN04BeWyNOY4zHJmDml4DXNs5rmjI5hBvY5mu7OJ01KqfK/XNvS0jRlPtlRJYBtg0NjjabaZbmX6Mdi9NCYm2HjqcRlTYxlbcZbWy2PAdnEaDjfq0PYvnCbPJmJJBBZDe49rBJc+x4F7iX+YtH4Kxa+VxDYRo6S7ewiIe+m7dC1xsziP8AeLNjmAFmgW4cNNPNot5qM64HDX5bC381GYlUgC1yDc34HydXkK/J57Dj5rDhcEquyPcXEkk3N9VlAyaiXy3Hl/7r68aywzOB0LWsb1avLr2+SyjppNbLKrb7qOMWzSSAi/Do2Df0gqjIoYWxtbNNbNb2qM6kNto4jjdflQXv1cA1vVewJtw0WU2ERHQ7yS3TfcHXrt2BeboQelK+/kHHrUkYwd+Dx+RYkT8kgJ0s/h5L9az5ZuLY22HbbXyqJlBDrnTz9fyLFV2ReVI/Mxru1oP6F6rMEREQREQEREBERAREQEREBERAREQEREBERAREQEREBERAREQEREBERAREQEREBERAREAvoC0HtccrR5XHqCCu44SZTmc2NgsLuIBNgCco4u6+CxZ8VisQ1heQNC/3NwNCWjjwVli2ZE2WXxmIukaXNswOc8D8JgJuI/KLjyr82f2ZbNiNHSyPMsU1ZSwyMIia58Mk8TZW5WO1BYXdV1naMRkr704dQ8i2zDKDDqFlRUFhjhE9RAQ1rn1WIh00rJBwayMStYOsmMcLFWnFMGw8XmMtRfXK1kzmi58o6/OVWttdlZ8XqzFFVfc6na28lUC4SAXAaIGNIzuzBw6RAGUnW4BzdsNlWWDosRqY5CQBuA1kd+8WG4K+e1Y6otaeOZ/19XT3JrWJmeI/z7ozEcMq7tfTVcVQziIqs5JW+Rs0LchH9pnnKm8EfVxD2+It0tZsjHi393q8uir+E4RXsNn1UdS0XyucxkMgA7xa4Nd6IU6TVwssI7t1uRY8fl0K5mpT45bdZzPPDF2ipo6q8jYwypYbiQAAztsQY5NbbwWbZ/XYArl7batfVYjNI6zTHlpQ0aZdxfNYAk3Er5Li99Cum2TG+pvfi0/gk9TiB8y0h4QeyRp3HEqaN25qXtjqsouyCoebGdw/BbKNMwtaR7u+Auh4ZuMW/Tt59v6cjxTa5j9Ssdu8fdrOj9sc6YNu0kBnDSNtwCTYXubu4fhrOa6w4gDz/t+ZfVK4RMDdPLw1HC2nyKPqagDr07Ov9i7zglTUk6Ai1h/m3aoqckG+lu3tXrU1DLaXuf2fMsN02YW6+I8vkWSPppzPCzqsF8kTcokyM3hbewNrcba8T+hR9I4Zrn/us7DsQEdS17m5mOa6Nw7GuIsR5QQ1Ue5qHPAPRb1WaLf91+wEDjx8uvWpDEMNB9ugIc06kC2mv8lFOJB6Qtbjf/FTuPeoudf2edRlYOlfrspNr7j+X7b2URVHpG3VoscKtWCSZoW+S7fmWaonZd3tZHY4/pAUssgREVQREQEU/sPs6zE5KiE1kdJJDQ1dfA18Uk7qyShjdM+kibGQWyOijndm6RAhdZruAxsB2YxHEG7yhw3EK2PX22kpampiBboRvIYyzMD1XvogiUWRiNDNTSGGpgnppwA50NTFJTzNBuAXRzNDwCQdSOorHQEREBERAREQEREBERARF+XQfqIsiloJ5mySRQTyxwNElRJFHJJHTxuNmyTuY0thYToHOIF0GOiIgIiICIiAiIgIiICIiAiIgIiICCkE5bG49Fzhcd4d0+Q9fkui9qJxD2kcb6ec6C3l1WVO5PZM4dG1sjo4wCQRvZP7PuIx29Yt7lvn1WyuS3D2ur6Z8mr2ytdEy2a5a17yfOGxvdfqyrW2Ft3YAv0iS+TyuJzW+QlXrkxx5sOLUUbiAJI64Zjwa9kcTYzrw0dIL/1irq8Um0s9CudSsfF0TtDVxxsvLDBNEW2GntjS618w4gGw4dg7FTsSjwu2dratrtBliqJS1vlDHuc39CbQtkkkyb3LZtwLajjrfgTx0VSqsEpmPM8lRUSy9Q3r4ooweoNjIaPOblfP61eqfR9VozFY/pPtooLh0GIyADV0dVFG9x8gdDk/S0rwxjEHi0fjDXNPA3Lc1uogcFTJ8SmilAiPjUbibtf0QwNtmyS26TwDoDcGx4WKzKGrgqS7dPa6WMgSwnKJYyeGdtz84uFoX07fJ79dfmmaKrJ6iHjRw4aeQjiLdqlY6qCdpp3QiRjwWSiVoMZYdHNcHXDmlVzxpzPk0BOhHmPFZ1FjEbGPe5rhkY5xOhuGAk/JovCaTM8LMx5ufOU6ipo6yeOiDYoI3bpsYLzctNi5r3k31v8AIAqLU07r21Fu3XTtBbxGnYrHW1m+e57iS55c9wI63Enr86wXTahpHDS9+Gq+upE1iI9HxtpzMygybA9fk0N/mXlCTl4D5jfzAdqnJIQ4m4zN6tO0+TgbBYFVQuHSY0uYdMoGazh1ebyrPLFGAW8nEEHiLI94BaeNv5qRlwyQgC7S7XoC5IuLm3UTpw7Viy4a9paLscxwBZLciNweAQbkdHrGvAgq5E1g1W9tix12ni08De/bpdStRDHMBfK134Q0/wC/Uq6/CKuBzWuiLc/uHZmmNx8j2ki9ivqXB52OAkifCXEZZZJA2F5PANla1zC4nqvdMZRly074uIuw9YvYa/tURXNs4kcDZTFfRVVKBn9sjtckXcGHrBuBp5bW8qi5iH6jzEcMp04jiNbKKm9mBZj/AO0D87Wn/FS6jNm2+1X8tj52gA/sUmqCIiqCIiDffJBt74lBS4rjcuH1tLRhmBYRRU9JRTY9SvswGoa8NZLFRNpTI113uMhLBlzOBfhcvu1bH1WIUswx/DcUpaiOmw+mjrw7BTRxP/8ANNp2MjdTGamLZGhue5kj6QAcFTNhaaOtwnF6GOkppcSiFLi1JNug6vdS0smTE4aeT3QDInRyiNurg6fQ6WqO8qcQqG5pJ62sqZIoWPmkfNPUTSFkMDDJM4l7iTGwZjwyjgEVdtitrX4i6LBMenlrcPqXtp6arqHGetwernOSnrKSokvKYN46NskL3FhZewFiHUXGqCSjmnpZwBPTTS00zRewlp3vjkDSRctzMNj1iy2hs5yX4iaWpazBa9m0eH4lRSRuqCyOgkopRJ0WGX/RqoRz0+Z7muIyTMIJAc1VHljqGT4pVzx4jSYsZiyWStoYHUlJLM6Jge2CN0kl2NLQM4e4P1dcklBbse5KcOwo0rsY2kio4qykgqoGxUFTVVGeVpM28jhkIhpYyY7TON5CXgNbkJMdWcj1azGjgLaineGwfdB2IuvHTMwwC766RmYuYA7oZAT0yBmynOPbwm66Gpq8PdTzRTtGz2HRl0L2StbJnr3GMlhID8r2HLxs9vatpYltrQUu0QEtbSx0tfsvTYZ4/wC01NNSVMj55YXVIdmiMOUjM14LfbI81mklEafrdhMPnpaurwPHPuq/D4hU11NLQz4dIaTMWyVtI6aRwmiZxcw2c1tiTcta6J5QtjjhEWGzGoFR90sNgxTKI914uZwHGC+d29DQW9Po316IWydoosdoqOsfW4zspSU81HUU2XD48HNVisczLPo6PxOibMWSjTOS3L0XEC12/O2Wz7dpMMwWqocTwiBlBhUWGYmK+rZSvoZqZsbXPkY5pc6M2kI4EgMLQ4OuCoWl5GXSYvSYIMRGarwlmMeMeLEiMyCceLCPfjP04PfMzdH+501xcN5LIKypjw6gx2lq62Nss2MObTVMeHYVTU7W7+ZtbIQyvDZXCMbsNzFwJyAOI25T43QN2vw6eKvpX0bdmo4WVRliZGS3x97WvJdaOUxFr8h1AcNFpnwecbpKd1bh2IVDKKnxbCZ8L8dk6MdJPKy0b5idGREOkBcSACGXsLkBkScm1BWU9VNgGPNxeooYXVVVRSUFTh80tNH77UURme7ftb3AL6t1u5od9Q8mVFDh2H4zimPMoKOvZK7dsoqisqmysfaOKCOB5MzDGHPfKQ0MIY2zy8Ws3J7gXM81mL4tX4U97sOqKLD6Kgq2Vs1fUVLoS1zWsaC2lbum3e4aCS5DcutZ5UqyF+AbLwxTRSSQ0uJMmYx7HvicZqJrRK1pvGSY32zWvkd2IjOx7kkw/C5Y/uttNTU1FVtZJhdRBRVNTNVwyNY41M8Ub8tDTsMjBnc9wdqRlsbR7ORys+7NTgclTBFHRwmtqsUka4UseHhjHiqLM1w45w3dlws5knSytL1++EVWxTwYGIJopizZyijkET2yGOTI8GN4YTkkuD0TrotqbXbS4dNj2MYdNiFNBT4zgcGGw4jvGSUtPVbmUxNnkY7Kxjm1BJJIHRYPwwg1zs/yUYdixqXYPtIyrjpKWapnbNh9TSVIfG28O7jnkAlppHB4MgN4yGAtdnBE7SbLYE/ZVj343FEx2MNe/FvuPWSTR1DqMB2Gblr9++NoJdvQ7dm3C6y+RrZEbP1FfLiuKYOyokwetgpqamrYqh0kbt1JNUSOs0RRjcRhgd0n55DlG7KrfJ/SsxjZmXAqerooMUhxZuJMp62ojpPGKV1LHCXQOk0e5ry+46sgvbM24Q2GcndHDRwYnjmNNwqnrXSfcyGOinr6ysgiIBq3QxPBp6exa7W+kkeoLmg3jkn2Zgjp9p6Cmxegq6WXCqJ7cVbnhpYoZTiBkfVsdd9PJE1rnPju4gBvWbDCx7Bm7UYbhDMPrsNixDCKQ4TiFBWVUVM+1Puo46umfcsngfuC7O0lpEjdbtIWPsdQ0+E0O1FC7FMNrJX4RSASUcwfA+pc+tbLSU735fGnxufE0uYLXlaNDcAK5i3J5RSYbU4tguNjFmUDoW4jBJQ1GHSxMqHBsdRCKh5c+K5OhA0jk1u0tWuls/knroYsD2njlmijklpcObCx72MfM4T1gIia43kIL2XDb+7b2rWCAiIgIiICIiAiIgIiICIiAiIgIDax6wQR5wbj9iIglnVFmlw42JB7TbiPOqxtdjktLPRTRGz44HPsfws1RMOlbUXEbdf6qki82y9X/a/7FV+UF2d9O/8AB8WEd/60cs2b99p/vL11Ji1cFZms5huXBeXCg3bfGGTslLbOsHua12lz0erzXWWzlRwWRubxktdfUPjqcoB7CYjrcdS5qAWXu7FsehJs51v6w6A89jf+8FzbbKlvX8+ToV8R1a+n5823tv8AlHY5j4KCcTXDX542uZCwtIIsXAOkkBtw07b2savsdXPjGcOcJNOmCQ+/EnNe5JOt1Vo2WzXHANYPKXG518zT86s2AQ9E2Cw1NvWleiGHtFtS/VP8MvF+ULE4pgyOoBa1oJbLHG+5Nzq6wdw8qk8O5TquoY+llgizSxTNM0RczK1sZJJY4m9ybcetUbHIvb5Nbe4FgL/gN1Pk1X1hTcr33A6FNldxNnzSNd8+Un5lsV22niPdjMPP2rVjMdUsiaQtcRe+gHV2LwncRqOv/qF5GQXPbwXmx59yfk/l5VsNZkxznttof5f4le5qMosO9fS/Zp+xYbdQfkH7T/Jfpf13t/nyqYGZvbNDrkPBaQeOodp/nyLI8YYxro3C7HFxDTboFxzZR/VzF3zqPYRdt7ZQQT+0rHklMgceskuHyaj9imFW6lxNj2Mp3C92uyZtbOaLtHkva3yrJmxFhp7P6cbhkeziHNuOI7RcKkw1B6Lm8W2IssypqejYHoOJe0dmb3TfMCf2KYRnYhJI1piDy5sfttM8km8f4cT9elpqL90hQtU0OAlj6LvclvDUD3vzWuW/KOxe7qs2DQb21t2tI6bB+351hxSBriCMzescL2sW+Y9d1lgT2zTwYjbvE+a4H/VSigdl5LuksLNd0gOzXh+kqeVURERBERBl4Nic9FPFV0kz6eqgeJYJ4yA+N4BFxcEEFpc0tcC1zXOaQQSDcpdqcErXb/EMDnpawkSSVGA1jaKGeW9y/wATqoJYqVxNiTC4Akk2BVCRFdAclPK48VBwigbTYRR1EVc9tfjVfVYjNFiPi0jqSqmqKt7YI4jNFEHQNiykyOIJcTm09tbtG2vZTsGG4VQy07ZmTT4ZTR0YrnSvYWyTshAjuwMs3KAPbH2sCGiARB+AIAv1ER+BoHAAIWjjYXX6iD8sOxfqIg/A0DgAPMll+ogmsK2TxCqhNVT0cssHthD27sOl3Dc05gjc4SVWQe6MTXZbG9rLzbsxXeKnEBSS+JBhmM3QHtDX7t1QI829dTCTomYNyAggu0KvXJ3tNhdE3D5JpY4ZKcVTK0SYe6vrHSVL6psc1HVSOLKGjbDPAXMgDJc0M/RkMuZQmJV+HTQwzOrq1k8GEU+DGhpY3QvnfSQtpC51S8GIYZNE0yvicM5Mj2ZdcyCExTY7EKSNs09BNFG58cfBjnslnBdBHNFG4y08rwDlZI1rnW0BUhinJ/X01N4xU08sczq+mwyGkDGTSTzVUVbIWtdDI7LUsdSMjNOW571LL5dA69c+MKpXzz08kMrTiOF4nSUseGvp53wYZXGd1NXV0znz1mIGKQe2SvdFmhe4PvJlEXs1tNheDmN0NXU4j/8AWYsSkBpnwFtJ4hjFG91p32kxBjsQje4aMcWMAedS0KbUbE4k2aOldQTOnmbLJTxx7uffNpmufUiJ0LnMkkja0lzAS5ugIBIB9a/YTFYI3zy0ErYYonVDpQ6B7DBG3NLPCY5D4xExur3RZgwA5stlaRtdR0zGUsM1O6NsOMPL8Ow77l0ranEMImw+kDY3Xnknc8s3khysa0RAZ8pcozBtpqWI4cXueG0mC4th01mE5arEOcG4azvMP3RpbuGgu6/uSiqvVYBVxPnjkppGSUkbZqtrsv8Ao8UhgbG95vbK41NOBYm+9ba6jlsfbbEd3hFEySOaDEsQgpo69szXMdJh2AvqoMLnLZLPy1DZIDnI6X3KaQSCL64RBERAREQEREBERAREQEREBERAREQFi4nRNnaGmwLSXMdYOyl1swIPFpsLjT3I1WUiCs1WDMgY6YjM9vBmpicTYXsekWa3ynzXKgoHHPncbnNmJPXc6q4bRP8Aa3MB6XRcRp7nNb9tlVY2CwJ4X17TpwFuJ8iYEpPBlyMGoe90vXbKAGxkAgEcX/Mrzs3RAMuQqm1l5w0aiNjGg6dbQ93DQnM8i/XZbCwWICMeZaevbN2xpRxlRNpKcCeTtO71Fh/uxx6yvhtJu45J2lrw8wizHAuY2KEZg8fguzOOnHog8CL5m1mUVD72Jyx/hG40I1b1Dh/kqvV1TK1ha15DC67mCxa46dKxHkA+RbcdmvPd4PYXnQ2FtfPfgNR8q8je1utt7HqcBpp5l8+NPIsS21yfcs4kWJ4diCd3k6wNLcdT7lB9tkPEdetv+h4r6dLfQi36NV5GXgC3QXN2mx186eMDUhrr6i9wdT5LedUegdc5fIdV9U0trXHBYjJgOrXyr7ErT5EH6527Jb1dXm4hfYmuMl9L5m+RfjXtcLG1+o3HD519OpesaEdnaFADjcEGxGt+wjgvRzszsxtqNerhofMvMRuHugQe3qP8lmYZh75nC4LYvwncLjsb2kqqldmKYsjLz+Gej/ZHA/Kb/oUuvxrQAABYAWAHAAcAv1EEREBFTOdc/ch9F/rpzrn7kPov9dRcLmipnOufuQ+i/wBdOdc/ch9F/roYXNFTOdc/ch9F/rpzrn7kPov9dDC5oqZzrn7kPov9dOdc/ch9F/roYXNFTOdc/ch9F/rpzrn7kPov9dDC5oqZzrn7kPov9dOdc/ch9F/roYXNFTOdc/ch9F/rpzrn7kPov9dDC5oqZzrn7kPov9dOdc/ch9F/roYXNFTOdc/ch9F/rpzrn7kPov8AXQwuaKmc65+5D6L/AF051z9yH0X+uhhdHEnUkk6C51NgAANeoAAeYBfipnOufuQ+i/1051z9yH0X+uhhc0VM51z9yH0X+unOufuQ+i/10MLmipnOufuQ+i/1051z9yH0X+uhhc0VM51z9yH0X+unOufuQ+i/10MLmipnOufuQ+i/1051z9yH0X+uhhc0VM51z9yH0X+unOufuQ+i/wBdDC5oqZzrn7kPov8AXTnXP3IfRf66GFzRUznXP3IfRf66c65+5D6L/XQwuaKmc65+5D6L/XTnXP3IfRf66GFzRUznXP3IfRf66c65+5D6L/XQwz8ble91gx2UakhpJcSbC9uIDGt8xe7tXjQUJeGsc1zQZGNeSHCzSQCfNYLG511Hch9F/rpzrqO5D6L/AF1l1GE9g4dJI+VwLS97n6gi2Yk63Ww8OLWsALm8B1hae51z9yH0X+uvznVP3IPRf661baGZzl6xqYjC4bXMLp3kAubkiN2lrh/vBbUXB06r9XaqvWwuJ9w+2umU/IvDnXP3IfRf66c65+5D6L/XWxHbDyw+Y6J3cd8oP8l6CjPcf8x/kvnnXP3IfRf66c66juQ+i/10MHiju4/0T/JYviz7noSce67+Syudc/ch9F/rpzrqO5D6L/XQwxDTv4ZH+ToO/kvjxd5/3cgP9hw/wWdzrqO5D6MnrpzrqO5D80nroYYApXkgbuTXQ9B3X8iv5ibwLQbdoBVP511Hch9F/rpzrn7kPov9dDC4CJvdb8wX2qZzrn7kPov9dOdc/ch9F/roYXNFTOdc/ch9F/rpzrn7kPov9dDC5oqZzrn7kPov9dOdc/ch9F/roYQCIiiiIiAiIgIiICIiAiIgIiICIiAiIgIiICIiAiIgIiICIiAiIgIiICIiAiIgIiICIiAiIgIiICIiAiIgIiICIiAiIgIiICIiAiIgIiICIiAiIgIiICIiAiIgIiICIiAiIgIiICIiAiIgIiICIiAiIgIiICIiAiIgIiICIiAiIgIiICIiAiIgIiICIiAiIgIiICIiAiIgIiICIiAiIgIiICIiAiIgIiICIiAiIgIiICIiAiIgIiICIiAiIgIiICIiAiIgIiICIiAiIgIiICIiAiIgIiICIiAiIgIiICIiAiIg/9k=\n"
                },
                "metadata": {}
              }
            ]
          }
        },
        "5c1c5aeb10bf4662bb36117ca7481196": {
          "model_module": "@jupyter-widgets/output",
          "model_name": "OutputModel",
          "model_module_version": "1.0.0",
          "state": {
            "_dom_classes": [],
            "_model_module": "@jupyter-widgets/output",
            "_model_module_version": "1.0.0",
            "_model_name": "OutputModel",
            "_view_count": null,
            "_view_module": "@jupyter-widgets/output",
            "_view_module_version": "1.0.0",
            "_view_name": "OutputView",
            "layout": "IPY_MODEL_dea9be7920b04f3c916bfa5b10c5eb68",
            "msg_id": "",
            "outputs": [
              {
                "output_type": "stream",
                "name": "stdout",
                "text": [
                  "Video available at https://www.bilibili.com/video/BV1Hp4y1S7Au\n"
                ]
              },
              {
                "output_type": "display_data",
                "data": {
                  "text/plain": "<__main__.BiliVideo at 0x7fa195e4b050>",
                  "text/html": "\n        <iframe\n            width=\"854\"\n            height=\"480\"\n            src=\"https://player.bilibili.com/player.html?bvid=BV1Hp4y1S7Au&page=1?fs=1\"\n            frameborder=\"0\"\n            allowfullscreen\n        ></iframe>\n        "
                },
                "metadata": {}
              }
            ]
          }
        },
        "9144cc3a47ed4c8fba5d14ba91eb5866": {
          "model_module": "@jupyter-widgets/base",
          "model_name": "LayoutModel",
          "model_module_version": "1.2.0",
          "state": {
            "_model_module": "@jupyter-widgets/base",
            "_model_module_version": "1.2.0",
            "_model_name": "LayoutModel",
            "_view_count": null,
            "_view_module": "@jupyter-widgets/base",
            "_view_module_version": "1.2.0",
            "_view_name": "LayoutView",
            "align_content": null,
            "align_items": null,
            "align_self": null,
            "border": null,
            "bottom": null,
            "display": null,
            "flex": null,
            "flex_flow": null,
            "grid_area": null,
            "grid_auto_columns": null,
            "grid_auto_flow": null,
            "grid_auto_rows": null,
            "grid_column": null,
            "grid_gap": null,
            "grid_row": null,
            "grid_template_areas": null,
            "grid_template_columns": null,
            "grid_template_rows": null,
            "height": null,
            "justify_content": null,
            "justify_items": null,
            "left": null,
            "margin": null,
            "max_height": null,
            "max_width": null,
            "min_height": null,
            "min_width": null,
            "object_fit": null,
            "object_position": null,
            "order": null,
            "overflow": null,
            "overflow_x": null,
            "overflow_y": null,
            "padding": null,
            "right": null,
            "top": null,
            "visibility": null,
            "width": null
          }
        },
        "f1c948cca86a451f97983267aebeb867": {
          "model_module": "@jupyter-widgets/base",
          "model_name": "LayoutModel",
          "model_module_version": "1.2.0",
          "state": {
            "_model_module": "@jupyter-widgets/base",
            "_model_module_version": "1.2.0",
            "_model_name": "LayoutModel",
            "_view_count": null,
            "_view_module": "@jupyter-widgets/base",
            "_view_module_version": "1.2.0",
            "_view_name": "LayoutView",
            "align_content": null,
            "align_items": null,
            "align_self": null,
            "border": null,
            "bottom": null,
            "display": null,
            "flex": null,
            "flex_flow": null,
            "grid_area": null,
            "grid_auto_columns": null,
            "grid_auto_flow": null,
            "grid_auto_rows": null,
            "grid_column": null,
            "grid_gap": null,
            "grid_row": null,
            "grid_template_areas": null,
            "grid_template_columns": null,
            "grid_template_rows": null,
            "height": null,
            "justify_content": null,
            "justify_items": null,
            "left": null,
            "margin": null,
            "max_height": null,
            "max_width": null,
            "min_height": null,
            "min_width": null,
            "object_fit": null,
            "object_position": null,
            "order": null,
            "overflow": null,
            "overflow_x": null,
            "overflow_y": null,
            "padding": null,
            "right": null,
            "top": null,
            "visibility": null,
            "width": null
          }
        },
        "dea9be7920b04f3c916bfa5b10c5eb68": {
          "model_module": "@jupyter-widgets/base",
          "model_name": "LayoutModel",
          "model_module_version": "1.2.0",
          "state": {
            "_model_module": "@jupyter-widgets/base",
            "_model_module_version": "1.2.0",
            "_model_name": "LayoutModel",
            "_view_count": null,
            "_view_module": "@jupyter-widgets/base",
            "_view_module_version": "1.2.0",
            "_view_name": "LayoutView",
            "align_content": null,
            "align_items": null,
            "align_self": null,
            "border": null,
            "bottom": null,
            "display": null,
            "flex": null,
            "flex_flow": null,
            "grid_area": null,
            "grid_auto_columns": null,
            "grid_auto_flow": null,
            "grid_auto_rows": null,
            "grid_column": null,
            "grid_gap": null,
            "grid_row": null,
            "grid_template_areas": null,
            "grid_template_columns": null,
            "grid_template_rows": null,
            "height": null,
            "justify_content": null,
            "justify_items": null,
            "left": null,
            "margin": null,
            "max_height": null,
            "max_width": null,
            "min_height": null,
            "min_width": null,
            "object_fit": null,
            "object_position": null,
            "order": null,
            "overflow": null,
            "overflow_x": null,
            "overflow_y": null,
            "padding": null,
            "right": null,
            "top": null,
            "visibility": null,
            "width": null
          }
        },
        "151f4d54147d42448ba94bf77521e269": {
          "model_module": "@jupyter-widgets/controls",
          "model_name": "TabModel",
          "model_module_version": "1.5.0",
          "state": {
            "_dom_classes": [],
            "_model_module": "@jupyter-widgets/controls",
            "_model_module_version": "1.5.0",
            "_model_name": "TabModel",
            "_titles": {
              "0": "Youtube",
              "1": "Bilibili"
            },
            "_view_count": null,
            "_view_module": "@jupyter-widgets/controls",
            "_view_module_version": "1.5.0",
            "_view_name": "TabView",
            "box_style": "",
            "children": [
              "IPY_MODEL_f6c761615e4046e4924d327e8536c146",
              "IPY_MODEL_214d9165e5be4dc08ca3f0e3470e9011"
            ],
            "layout": "IPY_MODEL_d3047cf2501e4efcbe7168591be2cdf1",
            "selected_index": 0
          }
        },
        "f6c761615e4046e4924d327e8536c146": {
          "model_module": "@jupyter-widgets/output",
          "model_name": "OutputModel",
          "model_module_version": "1.0.0",
          "state": {
            "_dom_classes": [],
            "_model_module": "@jupyter-widgets/output",
            "_model_module_version": "1.0.0",
            "_model_name": "OutputModel",
            "_view_count": null,
            "_view_module": "@jupyter-widgets/output",
            "_view_module_version": "1.0.0",
            "_view_name": "OutputView",
            "layout": "IPY_MODEL_7cbc905d74734828b84adb6e7d8a4667",
            "msg_id": "",
            "outputs": [
              {
                "output_type": "stream",
                "name": "stdout",
                "text": [
                  "Video available at https://youtube.com/watch?v=QGA5FCW7kkA\n"
                ]
              },
              {
                "output_type": "display_data",
                "data": {
                  "text/plain": "<IPython.lib.display.YouTubeVideo at 0x7fa192fabe10>",
                  "text/html": "\n        <iframe\n            width=\"854\"\n            height=\"480\"\n            src=\"https://www.youtube.com/embed/QGA5FCW7kkA?fs=1&rel=0\"\n            frameborder=\"0\"\n            allowfullscreen\n        ></iframe>\n        ",
                  "image/jpeg": "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\n"
                },
                "metadata": {}
              }
            ]
          }
        },
        "214d9165e5be4dc08ca3f0e3470e9011": {
          "model_module": "@jupyter-widgets/output",
          "model_name": "OutputModel",
          "model_module_version": "1.0.0",
          "state": {
            "_dom_classes": [],
            "_model_module": "@jupyter-widgets/output",
            "_model_module_version": "1.0.0",
            "_model_name": "OutputModel",
            "_view_count": null,
            "_view_module": "@jupyter-widgets/output",
            "_view_module_version": "1.0.0",
            "_view_name": "OutputView",
            "layout": "IPY_MODEL_e80827bbb9bf41eeb817fe720e477fdd",
            "msg_id": "",
            "outputs": [
              {
                "output_type": "stream",
                "name": "stdout",
                "text": [
                  "Video available at https://www.bilibili.com/video/BV1dt4y1Q7C5\n"
                ]
              },
              {
                "output_type": "display_data",
                "data": {
                  "text/plain": "<__main__.BiliVideo at 0x7fa1934acb50>",
                  "text/html": "\n        <iframe\n            width=\"854\"\n            height=\"480\"\n            src=\"https://player.bilibili.com/player.html?bvid=BV1dt4y1Q7C5&page=1?fs=1\"\n            frameborder=\"0\"\n            allowfullscreen\n        ></iframe>\n        "
                },
                "metadata": {}
              }
            ]
          }
        },
        "d3047cf2501e4efcbe7168591be2cdf1": {
          "model_module": "@jupyter-widgets/base",
          "model_name": "LayoutModel",
          "model_module_version": "1.2.0",
          "state": {
            "_model_module": "@jupyter-widgets/base",
            "_model_module_version": "1.2.0",
            "_model_name": "LayoutModel",
            "_view_count": null,
            "_view_module": "@jupyter-widgets/base",
            "_view_module_version": "1.2.0",
            "_view_name": "LayoutView",
            "align_content": null,
            "align_items": null,
            "align_self": null,
            "border": null,
            "bottom": null,
            "display": null,
            "flex": null,
            "flex_flow": null,
            "grid_area": null,
            "grid_auto_columns": null,
            "grid_auto_flow": null,
            "grid_auto_rows": null,
            "grid_column": null,
            "grid_gap": null,
            "grid_row": null,
            "grid_template_areas": null,
            "grid_template_columns": null,
            "grid_template_rows": null,
            "height": null,
            "justify_content": null,
            "justify_items": null,
            "left": null,
            "margin": null,
            "max_height": null,
            "max_width": null,
            "min_height": null,
            "min_width": null,
            "object_fit": null,
            "object_position": null,
            "order": null,
            "overflow": null,
            "overflow_x": null,
            "overflow_y": null,
            "padding": null,
            "right": null,
            "top": null,
            "visibility": null,
            "width": null
          }
        },
        "7cbc905d74734828b84adb6e7d8a4667": {
          "model_module": "@jupyter-widgets/base",
          "model_name": "LayoutModel",
          "model_module_version": "1.2.0",
          "state": {
            "_model_module": "@jupyter-widgets/base",
            "_model_module_version": "1.2.0",
            "_model_name": "LayoutModel",
            "_view_count": null,
            "_view_module": "@jupyter-widgets/base",
            "_view_module_version": "1.2.0",
            "_view_name": "LayoutView",
            "align_content": null,
            "align_items": null,
            "align_self": null,
            "border": null,
            "bottom": null,
            "display": null,
            "flex": null,
            "flex_flow": null,
            "grid_area": null,
            "grid_auto_columns": null,
            "grid_auto_flow": null,
            "grid_auto_rows": null,
            "grid_column": null,
            "grid_gap": null,
            "grid_row": null,
            "grid_template_areas": null,
            "grid_template_columns": null,
            "grid_template_rows": null,
            "height": null,
            "justify_content": null,
            "justify_items": null,
            "left": null,
            "margin": null,
            "max_height": null,
            "max_width": null,
            "min_height": null,
            "min_width": null,
            "object_fit": null,
            "object_position": null,
            "order": null,
            "overflow": null,
            "overflow_x": null,
            "overflow_y": null,
            "padding": null,
            "right": null,
            "top": null,
            "visibility": null,
            "width": null
          }
        },
        "e80827bbb9bf41eeb817fe720e477fdd": {
          "model_module": "@jupyter-widgets/base",
          "model_name": "LayoutModel",
          "model_module_version": "1.2.0",
          "state": {
            "_model_module": "@jupyter-widgets/base",
            "_model_module_version": "1.2.0",
            "_model_name": "LayoutModel",
            "_view_count": null,
            "_view_module": "@jupyter-widgets/base",
            "_view_module_version": "1.2.0",
            "_view_name": "LayoutView",
            "align_content": null,
            "align_items": null,
            "align_self": null,
            "border": null,
            "bottom": null,
            "display": null,
            "flex": null,
            "flex_flow": null,
            "grid_area": null,
            "grid_auto_columns": null,
            "grid_auto_flow": null,
            "grid_auto_rows": null,
            "grid_column": null,
            "grid_gap": null,
            "grid_row": null,
            "grid_template_areas": null,
            "grid_template_columns": null,
            "grid_template_rows": null,
            "height": null,
            "justify_content": null,
            "justify_items": null,
            "left": null,
            "margin": null,
            "max_height": null,
            "max_width": null,
            "min_height": null,
            "min_width": null,
            "object_fit": null,
            "object_position": null,
            "order": null,
            "overflow": null,
            "overflow_x": null,
            "overflow_y": null,
            "padding": null,
            "right": null,
            "top": null,
            "visibility": null,
            "width": null
          }
        },
        "32a0a6daef0844d0aff534bb07bb23a8": {
          "model_module": "@jupyter-widgets/controls",
          "model_name": "TabModel",
          "model_module_version": "1.5.0",
          "state": {
            "_dom_classes": [],
            "_model_module": "@jupyter-widgets/controls",
            "_model_module_version": "1.5.0",
            "_model_name": "TabModel",
            "_titles": {
              "0": "Youtube",
              "1": "Bilibili"
            },
            "_view_count": null,
            "_view_module": "@jupyter-widgets/controls",
            "_view_module_version": "1.5.0",
            "_view_name": "TabView",
            "box_style": "",
            "children": [
              "IPY_MODEL_1505c7c2abc444cdb7d1172e19e2e8cf",
              "IPY_MODEL_bacc0d52f3e34441b5bfe8b966ca1b3b"
            ],
            "layout": "IPY_MODEL_4e50979969444891854d43be6f108d4b",
            "selected_index": 0
          }
        },
        "1505c7c2abc444cdb7d1172e19e2e8cf": {
          "model_module": "@jupyter-widgets/output",
          "model_name": "OutputModel",
          "model_module_version": "1.0.0",
          "state": {
            "_dom_classes": [],
            "_model_module": "@jupyter-widgets/output",
            "_model_module_version": "1.0.0",
            "_model_name": "OutputModel",
            "_view_count": null,
            "_view_module": "@jupyter-widgets/output",
            "_view_module_version": "1.0.0",
            "_view_name": "OutputView",
            "layout": "IPY_MODEL_cb05ea3c75fc48cfbed8cc4815ae6561",
            "msg_id": "",
            "outputs": [
              {
                "output_type": "stream",
                "name": "stdout",
                "text": [
                  "Video available at https://youtube.com/watch?v=DHhM80MOTe8\n"
                ]
              },
              {
                "output_type": "display_data",
                "data": {
                  "text/plain": "<IPython.lib.display.YouTubeVideo at 0x7fa192eac850>",
                  "text/html": "\n        <iframe\n            width=\"854\"\n            height=\"480\"\n            src=\"https://www.youtube.com/embed/DHhM80MOTe8?fs=1&rel=0\"\n            frameborder=\"0\"\n            allowfullscreen\n        ></iframe>\n        ",
                  "image/jpeg": "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\n"
                },
                "metadata": {}
              }
            ]
          }
        },
        "bacc0d52f3e34441b5bfe8b966ca1b3b": {
          "model_module": "@jupyter-widgets/output",
          "model_name": "OutputModel",
          "model_module_version": "1.0.0",
          "state": {
            "_dom_classes": [],
            "_model_module": "@jupyter-widgets/output",
            "_model_module_version": "1.0.0",
            "_model_name": "OutputModel",
            "_view_count": null,
            "_view_module": "@jupyter-widgets/output",
            "_view_module_version": "1.0.0",
            "_view_name": "OutputView",
            "layout": "IPY_MODEL_417f6a2b6183449d8ad7156cfc402547",
            "msg_id": "",
            "outputs": [
              {
                "output_type": "stream",
                "name": "stdout",
                "text": [
                  "Video available at https://www.bilibili.com/video/BV1ov411B7Pm\n"
                ]
              },
              {
                "output_type": "display_data",
                "data": {
                  "text/plain": "<__main__.BiliVideo at 0x7fa192e7a610>",
                  "text/html": "\n        <iframe\n            width=\"854\"\n            height=\"480\"\n            src=\"https://player.bilibili.com/player.html?bvid=BV1ov411B7Pm&page=1?fs=1\"\n            frameborder=\"0\"\n            allowfullscreen\n        ></iframe>\n        "
                },
                "metadata": {}
              }
            ]
          }
        },
        "4e50979969444891854d43be6f108d4b": {
          "model_module": "@jupyter-widgets/base",
          "model_name": "LayoutModel",
          "model_module_version": "1.2.0",
          "state": {
            "_model_module": "@jupyter-widgets/base",
            "_model_module_version": "1.2.0",
            "_model_name": "LayoutModel",
            "_view_count": null,
            "_view_module": "@jupyter-widgets/base",
            "_view_module_version": "1.2.0",
            "_view_name": "LayoutView",
            "align_content": null,
            "align_items": null,
            "align_self": null,
            "border": null,
            "bottom": null,
            "display": null,
            "flex": null,
            "flex_flow": null,
            "grid_area": null,
            "grid_auto_columns": null,
            "grid_auto_flow": null,
            "grid_auto_rows": null,
            "grid_column": null,
            "grid_gap": null,
            "grid_row": null,
            "grid_template_areas": null,
            "grid_template_columns": null,
            "grid_template_rows": null,
            "height": null,
            "justify_content": null,
            "justify_items": null,
            "left": null,
            "margin": null,
            "max_height": null,
            "max_width": null,
            "min_height": null,
            "min_width": null,
            "object_fit": null,
            "object_position": null,
            "order": null,
            "overflow": null,
            "overflow_x": null,
            "overflow_y": null,
            "padding": null,
            "right": null,
            "top": null,
            "visibility": null,
            "width": null
          }
        },
        "cb05ea3c75fc48cfbed8cc4815ae6561": {
          "model_module": "@jupyter-widgets/base",
          "model_name": "LayoutModel",
          "model_module_version": "1.2.0",
          "state": {
            "_model_module": "@jupyter-widgets/base",
            "_model_module_version": "1.2.0",
            "_model_name": "LayoutModel",
            "_view_count": null,
            "_view_module": "@jupyter-widgets/base",
            "_view_module_version": "1.2.0",
            "_view_name": "LayoutView",
            "align_content": null,
            "align_items": null,
            "align_self": null,
            "border": null,
            "bottom": null,
            "display": null,
            "flex": null,
            "flex_flow": null,
            "grid_area": null,
            "grid_auto_columns": null,
            "grid_auto_flow": null,
            "grid_auto_rows": null,
            "grid_column": null,
            "grid_gap": null,
            "grid_row": null,
            "grid_template_areas": null,
            "grid_template_columns": null,
            "grid_template_rows": null,
            "height": null,
            "justify_content": null,
            "justify_items": null,
            "left": null,
            "margin": null,
            "max_height": null,
            "max_width": null,
            "min_height": null,
            "min_width": null,
            "object_fit": null,
            "object_position": null,
            "order": null,
            "overflow": null,
            "overflow_x": null,
            "overflow_y": null,
            "padding": null,
            "right": null,
            "top": null,
            "visibility": null,
            "width": null
          }
        },
        "417f6a2b6183449d8ad7156cfc402547": {
          "model_module": "@jupyter-widgets/base",
          "model_name": "LayoutModel",
          "model_module_version": "1.2.0",
          "state": {
            "_model_module": "@jupyter-widgets/base",
            "_model_module_version": "1.2.0",
            "_model_name": "LayoutModel",
            "_view_count": null,
            "_view_module": "@jupyter-widgets/base",
            "_view_module_version": "1.2.0",
            "_view_name": "LayoutView",
            "align_content": null,
            "align_items": null,
            "align_self": null,
            "border": null,
            "bottom": null,
            "display": null,
            "flex": null,
            "flex_flow": null,
            "grid_area": null,
            "grid_auto_columns": null,
            "grid_auto_flow": null,
            "grid_auto_rows": null,
            "grid_column": null,
            "grid_gap": null,
            "grid_row": null,
            "grid_template_areas": null,
            "grid_template_columns": null,
            "grid_template_rows": null,
            "height": null,
            "justify_content": null,
            "justify_items": null,
            "left": null,
            "margin": null,
            "max_height": null,
            "max_width": null,
            "min_height": null,
            "min_width": null,
            "object_fit": null,
            "object_position": null,
            "order": null,
            "overflow": null,
            "overflow_x": null,
            "overflow_y": null,
            "padding": null,
            "right": null,
            "top": null,
            "visibility": null,
            "width": null
          }
        },
        "e267e79567524a97a8a53c63ccdc8511": {
          "model_module": "@jupyter-widgets/controls",
          "model_name": "VBoxModel",
          "model_module_version": "1.5.0",
          "state": {
            "_dom_classes": [
              "widget-interact"
            ],
            "_model_module": "@jupyter-widgets/controls",
            "_model_module_version": "1.5.0",
            "_model_name": "VBoxModel",
            "_view_count": null,
            "_view_module": "@jupyter-widgets/controls",
            "_view_module_version": "1.5.0",
            "_view_name": "VBoxView",
            "box_style": "",
            "children": [
              "IPY_MODEL_d9fbae0bf7db44cd96ff6ab66cd2e6da",
              "IPY_MODEL_5eff09e6a58b4653b9725520a9bed878",
              "IPY_MODEL_f571c7331be9418f8e541b437af8bae3",
              "IPY_MODEL_1b6040abb7254168bcac6d05076fd596",
              "IPY_MODEL_d8a886523abf4a449b61cbe6ccc1f1bd",
              "IPY_MODEL_482659291fa640a2b944f2e01b5d7cb2",
              "IPY_MODEL_48410508b02348799d9b14287d426813",
              "IPY_MODEL_337a533d46494c57b051ea701dd38fc9"
            ],
            "layout": "IPY_MODEL_48484a3677e044f898bd3700406c62a3"
          }
        },
        "d9fbae0bf7db44cd96ff6ab66cd2e6da": {
          "model_module": "@jupyter-widgets/controls",
          "model_name": "FloatSliderModel",
          "model_module_version": "1.5.0",
          "state": {
            "_dom_classes": [],
            "_model_module": "@jupyter-widgets/controls",
            "_model_module_version": "1.5.0",
            "_model_name": "FloatSliderModel",
            "_view_count": null,
            "_view_module": "@jupyter-widgets/controls",
            "_view_module_version": "1.5.0",
            "_view_name": "FloatSliderView",
            "continuous_update": true,
            "description": "exp_scale",
            "description_tooltip": null,
            "disabled": false,
            "layout": "IPY_MODEL_81a8e697f48d46ebb34a1440203e5cd9",
            "max": 20000,
            "min": 0,
            "orientation": "horizontal",
            "readout": true,
            "readout_format": ".2f",
            "step": 250,
            "style": "IPY_MODEL_11e321691270481d9b37f9e806cc5bdc",
            "value": 7500
          }
        },
        "5eff09e6a58b4653b9725520a9bed878": {
          "model_module": "@jupyter-widgets/controls",
          "model_name": "FloatSliderModel",
          "model_module_version": "1.5.0",
          "state": {
            "_dom_classes": [],
            "_model_module": "@jupyter-widgets/controls",
            "_model_module_version": "1.5.0",
            "_model_name": "FloatSliderModel",
            "_view_count": null,
            "_view_module": "@jupyter-widgets/controls",
            "_view_module_version": "1.5.0",
            "_view_name": "FloatSliderView",
            "continuous_update": true,
            "description": "exp_rate",
            "description_tooltip": null,
            "disabled": false,
            "layout": "IPY_MODEL_87f40d7f0f464f1293e55d60a3d72007",
            "max": 50,
            "min": -200,
            "orientation": "horizontal",
            "readout": true,
            "readout_format": ".2f",
            "step": 1,
            "style": "IPY_MODEL_5e68924cf52f48a0851107925569a49d",
            "value": -65
          }
        },
        "f571c7331be9418f8e541b437af8bae3": {
          "model_module": "@jupyter-widgets/controls",
          "model_name": "FloatSliderModel",
          "model_module_version": "1.5.0",
          "state": {
            "_dom_classes": [],
            "_model_module": "@jupyter-widgets/controls",
            "_model_module_version": "1.5.0",
            "_model_name": "FloatSliderModel",
            "_view_count": null,
            "_view_module": "@jupyter-widgets/controls",
            "_view_module_version": "1.5.0",
            "_view_name": "FloatSliderView",
            "continuous_update": true,
            "description": "exp_x0",
            "description_tooltip": null,
            "disabled": false,
            "layout": "IPY_MODEL_dca82c48400045a1a619e8f6e52fabc6",
            "max": 0.5,
            "min": -0.5,
            "orientation": "horizontal",
            "readout": true,
            "readout_format": ".2f",
            "step": 0.005,
            "style": "IPY_MODEL_2833d15bfbf843cfb72bf498d16fce28",
            "value": 0.03
          }
        },
        "1b6040abb7254168bcac6d05076fd596": {
          "model_module": "@jupyter-widgets/controls",
          "model_name": "FloatSliderModel",
          "model_module_version": "1.5.0",
          "state": {
            "_dom_classes": [],
            "_model_module": "@jupyter-widgets/controls",
            "_model_module_version": "1.5.0",
            "_model_name": "FloatSliderModel",
            "_view_count": null,
            "_view_module": "@jupyter-widgets/controls",
            "_view_module_version": "1.5.0",
            "_view_name": "FloatSliderView",
            "continuous_update": true,
            "description": "inv_scale",
            "description_tooltip": null,
            "disabled": false,
            "layout": "IPY_MODEL_0b83f3eb62524d4ab9db1142dd3b2f1d",
            "max": 300,
            "min": 0,
            "orientation": "horizontal",
            "readout": true,
            "readout_format": ".2f",
            "step": 10,
            "style": "IPY_MODEL_0e1dbcf5f16442c793e97b63fd5377a3",
            "value": 300
          }
        },
        "d8a886523abf4a449b61cbe6ccc1f1bd": {
          "model_module": "@jupyter-widgets/controls",
          "model_name": "FloatSliderModel",
          "model_module_version": "1.5.0",
          "state": {
            "_dom_classes": [],
            "_model_module": "@jupyter-widgets/controls",
            "_model_module_version": "1.5.0",
            "_model_name": "FloatSliderModel",
            "_view_count": null,
            "_view_module": "@jupyter-widgets/controls",
            "_view_module_version": "1.5.0",
            "_view_name": "FloatSliderView",
            "continuous_update": true,
            "description": "inv_x0",
            "description_tooltip": null,
            "disabled": false,
            "layout": "IPY_MODEL_21bf838bdd2e4876be4bac6623b0b99f",
            "max": 0.2,
            "min": -0.2,
            "orientation": "horizontal",
            "readout": true,
            "readout_format": ".2f",
            "step": 0.01,
            "style": "IPY_MODEL_b87c28d7fb9843cbb186db1ba3eeee4e",
            "value": 0
          }
        },
        "482659291fa640a2b944f2e01b5d7cb2": {
          "model_module": "@jupyter-widgets/controls",
          "model_name": "FloatSliderModel",
          "model_module_version": "1.5.0",
          "state": {
            "_dom_classes": [],
            "_model_module": "@jupyter-widgets/controls",
            "_model_module_version": "1.5.0",
            "_model_name": "FloatSliderModel",
            "_view_count": null,
            "_view_module": "@jupyter-widgets/controls",
            "_view_module_version": "1.5.0",
            "_view_name": "FloatSliderView",
            "continuous_update": true,
            "description": "lin_slope",
            "description_tooltip": null,
            "disabled": false,
            "layout": "IPY_MODEL_d845525e02554e2e9f9820fcbb8385bf",
            "max": 100000,
            "min": -600000,
            "orientation": "horizontal",
            "readout": true,
            "readout_format": ".2f",
            "step": 10000,
            "style": "IPY_MODEL_f53b46ac81534ebaac6d952eb2e7c943",
            "value": -100000
          }
        },
        "48410508b02348799d9b14287d426813": {
          "model_module": "@jupyter-widgets/controls",
          "model_name": "FloatSliderModel",
          "model_module_version": "1.5.0",
          "state": {
            "_dom_classes": [],
            "_model_module": "@jupyter-widgets/controls",
            "_model_module_version": "1.5.0",
            "_model_name": "FloatSliderModel",
            "_view_count": null,
            "_view_module": "@jupyter-widgets/controls",
            "_view_module_version": "1.5.0",
            "_view_name": "FloatSliderView",
            "continuous_update": true,
            "description": "lin_y0",
            "description_tooltip": null,
            "disabled": false,
            "layout": "IPY_MODEL_85c0c080995740b19fadf348bfddbcd5",
            "max": 40000,
            "min": 0,
            "orientation": "horizontal",
            "readout": true,
            "readout_format": ".2f",
            "step": 1000,
            "style": "IPY_MODEL_1817a04f408044ab9663717a21cf6898",
            "value": 10000
          }
        },
        "337a533d46494c57b051ea701dd38fc9": {
          "model_module": "@jupyter-widgets/output",
          "model_name": "OutputModel",
          "model_module_version": "1.0.0",
          "state": {
            "_dom_classes": [],
            "_model_module": "@jupyter-widgets/output",
            "_model_module_version": "1.0.0",
            "_model_name": "OutputModel",
            "_view_count": null,
            "_view_module": "@jupyter-widgets/output",
            "_view_module_version": "1.0.0",
            "_view_name": "OutputView",
            "layout": "IPY_MODEL_ee85831d98fd442cabc8dd118ccad73b",
            "msg_id": "",
            "outputs": [
              {
                "output_type": "display_data",
                "data": {
                  "text/plain": "<Figure size 576x432 with 1 Axes>",
                  "image/png": "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\n"
                },
                "metadata": {
                  "image/png": {
                    "width": 558,
                    "height": 413
                  },
                  "needs_background": "light"
                }
              }
            ]
          }
        },
        "48484a3677e044f898bd3700406c62a3": {
          "model_module": "@jupyter-widgets/base",
          "model_name": "LayoutModel",
          "model_module_version": "1.2.0",
          "state": {
            "_model_module": "@jupyter-widgets/base",
            "_model_module_version": "1.2.0",
            "_model_name": "LayoutModel",
            "_view_count": null,
            "_view_module": "@jupyter-widgets/base",
            "_view_module_version": "1.2.0",
            "_view_name": "LayoutView",
            "align_content": null,
            "align_items": null,
            "align_self": null,
            "border": null,
            "bottom": null,
            "display": null,
            "flex": null,
            "flex_flow": null,
            "grid_area": null,
            "grid_auto_columns": null,
            "grid_auto_flow": null,
            "grid_auto_rows": null,
            "grid_column": null,
            "grid_gap": null,
            "grid_row": null,
            "grid_template_areas": null,
            "grid_template_columns": null,
            "grid_template_rows": null,
            "height": null,
            "justify_content": null,
            "justify_items": null,
            "left": null,
            "margin": null,
            "max_height": null,
            "max_width": null,
            "min_height": null,
            "min_width": null,
            "object_fit": null,
            "object_position": null,
            "order": null,
            "overflow": null,
            "overflow_x": null,
            "overflow_y": null,
            "padding": null,
            "right": null,
            "top": null,
            "visibility": null,
            "width": null
          }
        },
        "81a8e697f48d46ebb34a1440203e5cd9": {
          "model_module": "@jupyter-widgets/base",
          "model_name": "LayoutModel",
          "model_module_version": "1.2.0",
          "state": {
            "_model_module": "@jupyter-widgets/base",
            "_model_module_version": "1.2.0",
            "_model_name": "LayoutModel",
            "_view_count": null,
            "_view_module": "@jupyter-widgets/base",
            "_view_module_version": "1.2.0",
            "_view_name": "LayoutView",
            "align_content": null,
            "align_items": null,
            "align_self": null,
            "border": null,
            "bottom": null,
            "display": null,
            "flex": null,
            "flex_flow": null,
            "grid_area": null,
            "grid_auto_columns": null,
            "grid_auto_flow": null,
            "grid_auto_rows": null,
            "grid_column": null,
            "grid_gap": null,
            "grid_row": null,
            "grid_template_areas": null,
            "grid_template_columns": null,
            "grid_template_rows": null,
            "height": null,
            "justify_content": null,
            "justify_items": null,
            "left": null,
            "margin": null,
            "max_height": null,
            "max_width": null,
            "min_height": null,
            "min_width": null,
            "object_fit": null,
            "object_position": null,
            "order": null,
            "overflow": null,
            "overflow_x": null,
            "overflow_y": null,
            "padding": null,
            "right": null,
            "top": null,
            "visibility": null,
            "width": null
          }
        },
        "11e321691270481d9b37f9e806cc5bdc": {
          "model_module": "@jupyter-widgets/controls",
          "model_name": "SliderStyleModel",
          "model_module_version": "1.5.0",
          "state": {
            "_model_module": "@jupyter-widgets/controls",
            "_model_module_version": "1.5.0",
            "_model_name": "SliderStyleModel",
            "_view_count": null,
            "_view_module": "@jupyter-widgets/base",
            "_view_module_version": "1.2.0",
            "_view_name": "StyleView",
            "description_width": "",
            "handle_color": null
          }
        },
        "87f40d7f0f464f1293e55d60a3d72007": {
          "model_module": "@jupyter-widgets/base",
          "model_name": "LayoutModel",
          "model_module_version": "1.2.0",
          "state": {
            "_model_module": "@jupyter-widgets/base",
            "_model_module_version": "1.2.0",
            "_model_name": "LayoutModel",
            "_view_count": null,
            "_view_module": "@jupyter-widgets/base",
            "_view_module_version": "1.2.0",
            "_view_name": "LayoutView",
            "align_content": null,
            "align_items": null,
            "align_self": null,
            "border": null,
            "bottom": null,
            "display": null,
            "flex": null,
            "flex_flow": null,
            "grid_area": null,
            "grid_auto_columns": null,
            "grid_auto_flow": null,
            "grid_auto_rows": null,
            "grid_column": null,
            "grid_gap": null,
            "grid_row": null,
            "grid_template_areas": null,
            "grid_template_columns": null,
            "grid_template_rows": null,
            "height": null,
            "justify_content": null,
            "justify_items": null,
            "left": null,
            "margin": null,
            "max_height": null,
            "max_width": null,
            "min_height": null,
            "min_width": null,
            "object_fit": null,
            "object_position": null,
            "order": null,
            "overflow": null,
            "overflow_x": null,
            "overflow_y": null,
            "padding": null,
            "right": null,
            "top": null,
            "visibility": null,
            "width": null
          }
        },
        "5e68924cf52f48a0851107925569a49d": {
          "model_module": "@jupyter-widgets/controls",
          "model_name": "SliderStyleModel",
          "model_module_version": "1.5.0",
          "state": {
            "_model_module": "@jupyter-widgets/controls",
            "_model_module_version": "1.5.0",
            "_model_name": "SliderStyleModel",
            "_view_count": null,
            "_view_module": "@jupyter-widgets/base",
            "_view_module_version": "1.2.0",
            "_view_name": "StyleView",
            "description_width": "",
            "handle_color": null
          }
        },
        "dca82c48400045a1a619e8f6e52fabc6": {
          "model_module": "@jupyter-widgets/base",
          "model_name": "LayoutModel",
          "model_module_version": "1.2.0",
          "state": {
            "_model_module": "@jupyter-widgets/base",
            "_model_module_version": "1.2.0",
            "_model_name": "LayoutModel",
            "_view_count": null,
            "_view_module": "@jupyter-widgets/base",
            "_view_module_version": "1.2.0",
            "_view_name": "LayoutView",
            "align_content": null,
            "align_items": null,
            "align_self": null,
            "border": null,
            "bottom": null,
            "display": null,
            "flex": null,
            "flex_flow": null,
            "grid_area": null,
            "grid_auto_columns": null,
            "grid_auto_flow": null,
            "grid_auto_rows": null,
            "grid_column": null,
            "grid_gap": null,
            "grid_row": null,
            "grid_template_areas": null,
            "grid_template_columns": null,
            "grid_template_rows": null,
            "height": null,
            "justify_content": null,
            "justify_items": null,
            "left": null,
            "margin": null,
            "max_height": null,
            "max_width": null,
            "min_height": null,
            "min_width": null,
            "object_fit": null,
            "object_position": null,
            "order": null,
            "overflow": null,
            "overflow_x": null,
            "overflow_y": null,
            "padding": null,
            "right": null,
            "top": null,
            "visibility": null,
            "width": null
          }
        },
        "2833d15bfbf843cfb72bf498d16fce28": {
          "model_module": "@jupyter-widgets/controls",
          "model_name": "SliderStyleModel",
          "model_module_version": "1.5.0",
          "state": {
            "_model_module": "@jupyter-widgets/controls",
            "_model_module_version": "1.5.0",
            "_model_name": "SliderStyleModel",
            "_view_count": null,
            "_view_module": "@jupyter-widgets/base",
            "_view_module_version": "1.2.0",
            "_view_name": "StyleView",
            "description_width": "",
            "handle_color": null
          }
        },
        "0b83f3eb62524d4ab9db1142dd3b2f1d": {
          "model_module": "@jupyter-widgets/base",
          "model_name": "LayoutModel",
          "model_module_version": "1.2.0",
          "state": {
            "_model_module": "@jupyter-widgets/base",
            "_model_module_version": "1.2.0",
            "_model_name": "LayoutModel",
            "_view_count": null,
            "_view_module": "@jupyter-widgets/base",
            "_view_module_version": "1.2.0",
            "_view_name": "LayoutView",
            "align_content": null,
            "align_items": null,
            "align_self": null,
            "border": null,
            "bottom": null,
            "display": null,
            "flex": null,
            "flex_flow": null,
            "grid_area": null,
            "grid_auto_columns": null,
            "grid_auto_flow": null,
            "grid_auto_rows": null,
            "grid_column": null,
            "grid_gap": null,
            "grid_row": null,
            "grid_template_areas": null,
            "grid_template_columns": null,
            "grid_template_rows": null,
            "height": null,
            "justify_content": null,
            "justify_items": null,
            "left": null,
            "margin": null,
            "max_height": null,
            "max_width": null,
            "min_height": null,
            "min_width": null,
            "object_fit": null,
            "object_position": null,
            "order": null,
            "overflow": null,
            "overflow_x": null,
            "overflow_y": null,
            "padding": null,
            "right": null,
            "top": null,
            "visibility": null,
            "width": null
          }
        },
        "0e1dbcf5f16442c793e97b63fd5377a3": {
          "model_module": "@jupyter-widgets/controls",
          "model_name": "SliderStyleModel",
          "model_module_version": "1.5.0",
          "state": {
            "_model_module": "@jupyter-widgets/controls",
            "_model_module_version": "1.5.0",
            "_model_name": "SliderStyleModel",
            "_view_count": null,
            "_view_module": "@jupyter-widgets/base",
            "_view_module_version": "1.2.0",
            "_view_name": "StyleView",
            "description_width": "",
            "handle_color": null
          }
        },
        "21bf838bdd2e4876be4bac6623b0b99f": {
          "model_module": "@jupyter-widgets/base",
          "model_name": "LayoutModel",
          "model_module_version": "1.2.0",
          "state": {
            "_model_module": "@jupyter-widgets/base",
            "_model_module_version": "1.2.0",
            "_model_name": "LayoutModel",
            "_view_count": null,
            "_view_module": "@jupyter-widgets/base",
            "_view_module_version": "1.2.0",
            "_view_name": "LayoutView",
            "align_content": null,
            "align_items": null,
            "align_self": null,
            "border": null,
            "bottom": null,
            "display": null,
            "flex": null,
            "flex_flow": null,
            "grid_area": null,
            "grid_auto_columns": null,
            "grid_auto_flow": null,
            "grid_auto_rows": null,
            "grid_column": null,
            "grid_gap": null,
            "grid_row": null,
            "grid_template_areas": null,
            "grid_template_columns": null,
            "grid_template_rows": null,
            "height": null,
            "justify_content": null,
            "justify_items": null,
            "left": null,
            "margin": null,
            "max_height": null,
            "max_width": null,
            "min_height": null,
            "min_width": null,
            "object_fit": null,
            "object_position": null,
            "order": null,
            "overflow": null,
            "overflow_x": null,
            "overflow_y": null,
            "padding": null,
            "right": null,
            "top": null,
            "visibility": null,
            "width": null
          }
        },
        "b87c28d7fb9843cbb186db1ba3eeee4e": {
          "model_module": "@jupyter-widgets/controls",
          "model_name": "SliderStyleModel",
          "model_module_version": "1.5.0",
          "state": {
            "_model_module": "@jupyter-widgets/controls",
            "_model_module_version": "1.5.0",
            "_model_name": "SliderStyleModel",
            "_view_count": null,
            "_view_module": "@jupyter-widgets/base",
            "_view_module_version": "1.2.0",
            "_view_name": "StyleView",
            "description_width": "",
            "handle_color": null
          }
        },
        "d845525e02554e2e9f9820fcbb8385bf": {
          "model_module": "@jupyter-widgets/base",
          "model_name": "LayoutModel",
          "model_module_version": "1.2.0",
          "state": {
            "_model_module": "@jupyter-widgets/base",
            "_model_module_version": "1.2.0",
            "_model_name": "LayoutModel",
            "_view_count": null,
            "_view_module": "@jupyter-widgets/base",
            "_view_module_version": "1.2.0",
            "_view_name": "LayoutView",
            "align_content": null,
            "align_items": null,
            "align_self": null,
            "border": null,
            "bottom": null,
            "display": null,
            "flex": null,
            "flex_flow": null,
            "grid_area": null,
            "grid_auto_columns": null,
            "grid_auto_flow": null,
            "grid_auto_rows": null,
            "grid_column": null,
            "grid_gap": null,
            "grid_row": null,
            "grid_template_areas": null,
            "grid_template_columns": null,
            "grid_template_rows": null,
            "height": null,
            "justify_content": null,
            "justify_items": null,
            "left": null,
            "margin": null,
            "max_height": null,
            "max_width": null,
            "min_height": null,
            "min_width": null,
            "object_fit": null,
            "object_position": null,
            "order": null,
            "overflow": null,
            "overflow_x": null,
            "overflow_y": null,
            "padding": null,
            "right": null,
            "top": null,
            "visibility": null,
            "width": null
          }
        },
        "f53b46ac81534ebaac6d952eb2e7c943": {
          "model_module": "@jupyter-widgets/controls",
          "model_name": "SliderStyleModel",
          "model_module_version": "1.5.0",
          "state": {
            "_model_module": "@jupyter-widgets/controls",
            "_model_module_version": "1.5.0",
            "_model_name": "SliderStyleModel",
            "_view_count": null,
            "_view_module": "@jupyter-widgets/base",
            "_view_module_version": "1.2.0",
            "_view_name": "StyleView",
            "description_width": "",
            "handle_color": null
          }
        },
        "85c0c080995740b19fadf348bfddbcd5": {
          "model_module": "@jupyter-widgets/base",
          "model_name": "LayoutModel",
          "model_module_version": "1.2.0",
          "state": {
            "_model_module": "@jupyter-widgets/base",
            "_model_module_version": "1.2.0",
            "_model_name": "LayoutModel",
            "_view_count": null,
            "_view_module": "@jupyter-widgets/base",
            "_view_module_version": "1.2.0",
            "_view_name": "LayoutView",
            "align_content": null,
            "align_items": null,
            "align_self": null,
            "border": null,
            "bottom": null,
            "display": null,
            "flex": null,
            "flex_flow": null,
            "grid_area": null,
            "grid_auto_columns": null,
            "grid_auto_flow": null,
            "grid_auto_rows": null,
            "grid_column": null,
            "grid_gap": null,
            "grid_row": null,
            "grid_template_areas": null,
            "grid_template_columns": null,
            "grid_template_rows": null,
            "height": null,
            "justify_content": null,
            "justify_items": null,
            "left": null,
            "margin": null,
            "max_height": null,
            "max_width": null,
            "min_height": null,
            "min_width": null,
            "object_fit": null,
            "object_position": null,
            "order": null,
            "overflow": null,
            "overflow_x": null,
            "overflow_y": null,
            "padding": null,
            "right": null,
            "top": null,
            "visibility": null,
            "width": null
          }
        },
        "1817a04f408044ab9663717a21cf6898": {
          "model_module": "@jupyter-widgets/controls",
          "model_name": "SliderStyleModel",
          "model_module_version": "1.5.0",
          "state": {
            "_model_module": "@jupyter-widgets/controls",
            "_model_module_version": "1.5.0",
            "_model_name": "SliderStyleModel",
            "_view_count": null,
            "_view_module": "@jupyter-widgets/base",
            "_view_module_version": "1.2.0",
            "_view_name": "StyleView",
            "description_width": "",
            "handle_color": null
          }
        },
        "ee85831d98fd442cabc8dd118ccad73b": {
          "model_module": "@jupyter-widgets/base",
          "model_name": "LayoutModel",
          "model_module_version": "1.2.0",
          "state": {
            "_model_module": "@jupyter-widgets/base",
            "_model_module_version": "1.2.0",
            "_model_name": "LayoutModel",
            "_view_count": null,
            "_view_module": "@jupyter-widgets/base",
            "_view_module_version": "1.2.0",
            "_view_name": "LayoutView",
            "align_content": null,
            "align_items": null,
            "align_self": null,
            "border": null,
            "bottom": null,
            "display": null,
            "flex": null,
            "flex_flow": null,
            "grid_area": null,
            "grid_auto_columns": null,
            "grid_auto_flow": null,
            "grid_auto_rows": null,
            "grid_column": null,
            "grid_gap": null,
            "grid_row": null,
            "grid_template_areas": null,
            "grid_template_columns": null,
            "grid_template_rows": null,
            "height": null,
            "justify_content": null,
            "justify_items": null,
            "left": null,
            "margin": null,
            "max_height": null,
            "max_width": null,
            "min_height": null,
            "min_width": null,
            "object_fit": null,
            "object_position": null,
            "order": null,
            "overflow": null,
            "overflow_x": null,
            "overflow_y": null,
            "padding": null,
            "right": null,
            "top": null,
            "visibility": null,
            "width": null
          }
        },
        "3f619c1a68d7410f907bca1b5365be8e": {
          "model_module": "@jupyter-widgets/controls",
          "model_name": "TabModel",
          "model_module_version": "1.5.0",
          "state": {
            "_dom_classes": [],
            "_model_module": "@jupyter-widgets/controls",
            "_model_module_version": "1.5.0",
            "_model_name": "TabModel",
            "_titles": {
              "0": "Youtube",
              "1": "Bilibili"
            },
            "_view_count": null,
            "_view_module": "@jupyter-widgets/controls",
            "_view_module_version": "1.5.0",
            "_view_name": "TabView",
            "box_style": "",
            "children": [
              "IPY_MODEL_ec52340069c24b54a62e8d55cdc59e2b",
              "IPY_MODEL_917e06d9b5d64cb6a9b14cd988896ad3"
            ],
            "layout": "IPY_MODEL_3cb2efe8804443c4b66055571f0e2b73",
            "selected_index": 0
          }
        },
        "ec52340069c24b54a62e8d55cdc59e2b": {
          "model_module": "@jupyter-widgets/output",
          "model_name": "OutputModel",
          "model_module_version": "1.0.0",
          "state": {
            "_dom_classes": [],
            "_model_module": "@jupyter-widgets/output",
            "_model_module_version": "1.0.0",
            "_model_name": "OutputModel",
            "_view_count": null,
            "_view_module": "@jupyter-widgets/output",
            "_view_module_version": "1.0.0",
            "_view_name": "OutputView",
            "layout": "IPY_MODEL_a268cea4529e4727bb8227753fa9decd",
            "msg_id": "",
            "outputs": [
              {
                "output_type": "stream",
                "name": "stdout",
                "text": [
                  "Video available at https://youtube.com/watch?v=uW2HDk_4-wk\n"
                ]
              },
              {
                "output_type": "display_data",
                "data": {
                  "text/plain": "<IPython.lib.display.YouTubeVideo at 0x7fa192edd690>",
                  "text/html": "\n        <iframe\n            width=\"854\"\n            height=\"480\"\n            src=\"https://www.youtube.com/embed/uW2HDk_4-wk?fs=1&rel=0\"\n            frameborder=\"0\"\n            allowfullscreen\n        ></iframe>\n        ",
                  "image/jpeg": "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\n"
                },
                "metadata": {}
              }
            ]
          }
        },
        "917e06d9b5d64cb6a9b14cd988896ad3": {
          "model_module": "@jupyter-widgets/output",
          "model_name": "OutputModel",
          "model_module_version": "1.0.0",
          "state": {
            "_dom_classes": [],
            "_model_module": "@jupyter-widgets/output",
            "_model_module_version": "1.0.0",
            "_model_name": "OutputModel",
            "_view_count": null,
            "_view_module": "@jupyter-widgets/output",
            "_view_module_version": "1.0.0",
            "_view_name": "OutputView",
            "layout": "IPY_MODEL_7aa82f7ba2f3444fb845c8bc8da3c5b0",
            "msg_id": "",
            "outputs": [
              {
                "output_type": "stream",
                "name": "stdout",
                "text": [
                  "Video available at https://www.bilibili.com/video/BV1w54y1S7Eb\n"
                ]
              },
              {
                "output_type": "display_data",
                "data": {
                  "text/plain": "<__main__.BiliVideo at 0x7fa192ea6d90>",
                  "text/html": "\n        <iframe\n            width=\"854\"\n            height=\"480\"\n            src=\"https://player.bilibili.com/player.html?bvid=BV1w54y1S7Eb&page=1?fs=1\"\n            frameborder=\"0\"\n            allowfullscreen\n        ></iframe>\n        "
                },
                "metadata": {}
              }
            ]
          }
        },
        "3cb2efe8804443c4b66055571f0e2b73": {
          "model_module": "@jupyter-widgets/base",
          "model_name": "LayoutModel",
          "model_module_version": "1.2.0",
          "state": {
            "_model_module": "@jupyter-widgets/base",
            "_model_module_version": "1.2.0",
            "_model_name": "LayoutModel",
            "_view_count": null,
            "_view_module": "@jupyter-widgets/base",
            "_view_module_version": "1.2.0",
            "_view_name": "LayoutView",
            "align_content": null,
            "align_items": null,
            "align_self": null,
            "border": null,
            "bottom": null,
            "display": null,
            "flex": null,
            "flex_flow": null,
            "grid_area": null,
            "grid_auto_columns": null,
            "grid_auto_flow": null,
            "grid_auto_rows": null,
            "grid_column": null,
            "grid_gap": null,
            "grid_row": null,
            "grid_template_areas": null,
            "grid_template_columns": null,
            "grid_template_rows": null,
            "height": null,
            "justify_content": null,
            "justify_items": null,
            "left": null,
            "margin": null,
            "max_height": null,
            "max_width": null,
            "min_height": null,
            "min_width": null,
            "object_fit": null,
            "object_position": null,
            "order": null,
            "overflow": null,
            "overflow_x": null,
            "overflow_y": null,
            "padding": null,
            "right": null,
            "top": null,
            "visibility": null,
            "width": null
          }
        },
        "a268cea4529e4727bb8227753fa9decd": {
          "model_module": "@jupyter-widgets/base",
          "model_name": "LayoutModel",
          "model_module_version": "1.2.0",
          "state": {
            "_model_module": "@jupyter-widgets/base",
            "_model_module_version": "1.2.0",
            "_model_name": "LayoutModel",
            "_view_count": null,
            "_view_module": "@jupyter-widgets/base",
            "_view_module_version": "1.2.0",
            "_view_name": "LayoutView",
            "align_content": null,
            "align_items": null,
            "align_self": null,
            "border": null,
            "bottom": null,
            "display": null,
            "flex": null,
            "flex_flow": null,
            "grid_area": null,
            "grid_auto_columns": null,
            "grid_auto_flow": null,
            "grid_auto_rows": null,
            "grid_column": null,
            "grid_gap": null,
            "grid_row": null,
            "grid_template_areas": null,
            "grid_template_columns": null,
            "grid_template_rows": null,
            "height": null,
            "justify_content": null,
            "justify_items": null,
            "left": null,
            "margin": null,
            "max_height": null,
            "max_width": null,
            "min_height": null,
            "min_width": null,
            "object_fit": null,
            "object_position": null,
            "order": null,
            "overflow": null,
            "overflow_x": null,
            "overflow_y": null,
            "padding": null,
            "right": null,
            "top": null,
            "visibility": null,
            "width": null
          }
        },
        "7aa82f7ba2f3444fb845c8bc8da3c5b0": {
          "model_module": "@jupyter-widgets/base",
          "model_name": "LayoutModel",
          "model_module_version": "1.2.0",
          "state": {
            "_model_module": "@jupyter-widgets/base",
            "_model_module_version": "1.2.0",
            "_model_name": "LayoutModel",
            "_view_count": null,
            "_view_module": "@jupyter-widgets/base",
            "_view_module_version": "1.2.0",
            "_view_name": "LayoutView",
            "align_content": null,
            "align_items": null,
            "align_self": null,
            "border": null,
            "bottom": null,
            "display": null,
            "flex": null,
            "flex_flow": null,
            "grid_area": null,
            "grid_auto_columns": null,
            "grid_auto_flow": null,
            "grid_auto_rows": null,
            "grid_column": null,
            "grid_gap": null,
            "grid_row": null,
            "grid_template_areas": null,
            "grid_template_columns": null,
            "grid_template_rows": null,
            "height": null,
            "justify_content": null,
            "justify_items": null,
            "left": null,
            "margin": null,
            "max_height": null,
            "max_width": null,
            "min_height": null,
            "min_width": null,
            "object_fit": null,
            "object_position": null,
            "order": null,
            "overflow": null,
            "overflow_x": null,
            "overflow_y": null,
            "padding": null,
            "right": null,
            "top": null,
            "visibility": null,
            "width": null
          }
        }
      }
    }
  },
  "nbformat": 4,
  "nbformat_minor": 0
}